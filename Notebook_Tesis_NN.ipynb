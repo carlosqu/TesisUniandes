{
  "nbformat": 4,
  "nbformat_minor": 0,
  "metadata": {
    "colab": {
      "name": "Notebook_Tesis-NN.ipynb",
      "provenance": [],
      "collapsed_sections": [],
      "include_colab_link": true
    },
    "kernelspec": {
      "name": "python3",
      "display_name": "Python 3"
    },
    "accelerator": "GPU"
  },
  "cells": [
    {
      "cell_type": "markdown",
      "metadata": {
        "id": "view-in-github",
        "colab_type": "text"
      },
      "source": [
        "<a href=\"https://colab.research.google.com/github/carlosqu/TesisUniandes/blob/master/Notebook_Tesis_NN.ipynb\" target=\"_parent\"><img src=\"https://colab.research.google.com/assets/colab-badge.svg\" alt=\"Open In Colab\"/></a>"
      ]
    },
    {
      "cell_type": "code",
      "metadata": {
        "id": "C2h8la-cUSO-",
        "colab_type": "code",
        "colab": {
          "base_uri": "https://localhost:8080/",
          "height": 34
        },
        "outputId": "7b88db16-c708-4055-8547-0759bc18d205"
      },
      "source": [
        "import pandas as pd\n",
        "import numpy as np\n",
        "import matplotlib as plt\n",
        "from matplotlib import figure\n",
        "from matplotlib import *\n",
        "import sys\n",
        "from pylab import *\n",
        "from numpy import array\n",
        "from keras.models import Sequential\n",
        "from keras.layers import Dense\n",
        "from sklearn.metrics import mean_squared_error\n",
        "from keras.layers import Flatten\n",
        "from keras.layers.convolutional import Conv1D\n",
        "from keras.layers.convolutional import MaxPooling1D\n",
        "from sklearn.preprocessing import MinMaxScaler\n",
        "from keras.callbacks import EarlyStopping, ModelCheckpoint\n",
        "from sklearn.metrics import r2_score\n",
        "from sklearn.metrics import mean_absolute_error"
      ],
      "execution_count": 1,
      "outputs": [
        {
          "output_type": "stream",
          "text": [
            "Using TensorFlow backend.\n"
          ],
          "name": "stderr"
        }
      ]
    },
    {
      "cell_type": "code",
      "metadata": {
        "id": "JcOpsooicjvp",
        "colab_type": "code",
        "outputId": "d1d377cf-5bf6-49aa-e5d0-476943b1d185",
        "colab": {
          "base_uri": "https://localhost:8080/",
          "height": 122
        }
      },
      "source": [
        "from google.colab import drive\n",
        "drive.mount('/content/drive')"
      ],
      "execution_count": 3,
      "outputs": [
        {
          "output_type": "stream",
          "text": [
            "Go to this URL in a browser: https://accounts.google.com/o/oauth2/auth?client_id=947318989803-6bn6qk8qdgf4n4g3pfee6491hc0brc4i.apps.googleusercontent.com&redirect_uri=urn%3Aietf%3Awg%3Aoauth%3A2.0%3Aoob&scope=email%20https%3A%2F%2Fwww.googleapis.com%2Fauth%2Fdocs.test%20https%3A%2F%2Fwww.googleapis.com%2Fauth%2Fdrive%20https%3A%2F%2Fwww.googleapis.com%2Fauth%2Fdrive.photos.readonly%20https%3A%2F%2Fwww.googleapis.com%2Fauth%2Fpeopleapi.readonly&response_type=code\n",
            "\n",
            "Enter your authorization code:\n",
            "··········\n",
            "Mounted at /content/drive\n"
          ],
          "name": "stdout"
        }
      ]
    },
    {
      "cell_type": "code",
      "metadata": {
        "id": "7d-CInnIbcvj",
        "colab_type": "code",
        "outputId": "18618f45-68d7-4e14-a915-ccf0907b42da",
        "colab": {
          "base_uri": "https://localhost:8080/",
          "height": 221
        }
      },
      "source": [
        "data=pd.read_excel('/content/drive/My Drive/tesis/Universidad de los andes/Luis Francisco Ortiz Santamaria - Balance Demanda/Datos/EIA/Importaciones Refinerias/DF_2000.xlsx')\n",
        "data.info()"
      ],
      "execution_count": 4,
      "outputs": [
        {
          "output_type": "stream",
          "text": [
            "<class 'pandas.core.frame.DataFrame'>\n",
            "RangeIndex: 233 entries, 0 to 232\n",
            "Data columns (total 7 columns):\n",
            "DATE                        233 non-null datetime64[ns]\n",
            "AVG_API                     233 non-null float64\n",
            "AVG_AZUFRE                  233 non-null float64\n",
            "PERCENT_UTILIZACION_PADD    233 non-null float64\n",
            "CAPACIDAD                   233 non-null int64\n",
            "API_PROMEDIO_PADD           233 non-null float64\n",
            "KBD_MONTH                   233 non-null float64\n",
            "dtypes: datetime64[ns](1), float64(5), int64(1)\n",
            "memory usage: 12.8 KB\n"
          ],
          "name": "stdout"
        }
      ]
    },
    {
      "cell_type": "code",
      "metadata": {
        "id": "zBegjij3dZzd",
        "colab_type": "code",
        "outputId": "2d5eda3b-bf02-4070-c669-088874dc9003",
        "colab": {
          "base_uri": "https://localhost:8080/",
          "height": 235
        }
      },
      "source": [
        "data['Date_Time'] = pd.to_datetime(data.DATE , format = '%m/%d/%Y')\n",
        "data.index = data.Date_Time\n",
        "data = data.drop(['Date_Time'], axis=1)\n",
        "data = data.drop(['DATE'], axis=1)\n",
        "data.head()"
      ],
      "execution_count": 5,
      "outputs": [
        {
          "output_type": "execute_result",
          "data": {
            "text/html": [
              "<div>\n",
              "<style scoped>\n",
              "    .dataframe tbody tr th:only-of-type {\n",
              "        vertical-align: middle;\n",
              "    }\n",
              "\n",
              "    .dataframe tbody tr th {\n",
              "        vertical-align: top;\n",
              "    }\n",
              "\n",
              "    .dataframe thead th {\n",
              "        text-align: right;\n",
              "    }\n",
              "</style>\n",
              "<table border=\"1\" class=\"dataframe\">\n",
              "  <thead>\n",
              "    <tr style=\"text-align: right;\">\n",
              "      <th></th>\n",
              "      <th>AVG_API</th>\n",
              "      <th>AVG_AZUFRE</th>\n",
              "      <th>PERCENT_UTILIZACION_PADD</th>\n",
              "      <th>CAPACIDAD</th>\n",
              "      <th>API_PROMEDIO_PADD</th>\n",
              "      <th>KBD_MONTH</th>\n",
              "    </tr>\n",
              "    <tr>\n",
              "      <th>Date_Time</th>\n",
              "      <th></th>\n",
              "      <th></th>\n",
              "      <th></th>\n",
              "      <th></th>\n",
              "      <th></th>\n",
              "      <th></th>\n",
              "    </tr>\n",
              "  </thead>\n",
              "  <tbody>\n",
              "    <tr>\n",
              "      <th>2000-01-31</th>\n",
              "      <td>19.541818</td>\n",
              "      <td>2.868312</td>\n",
              "      <td>86.5</td>\n",
              "      <td>7553</td>\n",
              "      <td>31.08</td>\n",
              "      <td>1322.741935</td>\n",
              "    </tr>\n",
              "    <tr>\n",
              "      <th>2000-02-29</th>\n",
              "      <td>19.345584</td>\n",
              "      <td>2.833247</td>\n",
              "      <td>87.9</td>\n",
              "      <td>7546</td>\n",
              "      <td>31.42</td>\n",
              "      <td>1519.413793</td>\n",
              "    </tr>\n",
              "    <tr>\n",
              "      <th>2000-03-31</th>\n",
              "      <td>19.841379</td>\n",
              "      <td>2.866092</td>\n",
              "      <td>91.5</td>\n",
              "      <td>7548</td>\n",
              "      <td>31.23</td>\n",
              "      <td>1448.129032</td>\n",
              "    </tr>\n",
              "    <tr>\n",
              "      <th>2000-04-30</th>\n",
              "      <td>19.304146</td>\n",
              "      <td>2.794390</td>\n",
              "      <td>93.1</td>\n",
              "      <td>7548</td>\n",
              "      <td>31.21</td>\n",
              "      <td>1498.666667</td>\n",
              "    </tr>\n",
              "    <tr>\n",
              "      <th>2000-05-31</th>\n",
              "      <td>19.436709</td>\n",
              "      <td>2.890127</td>\n",
              "      <td>94.9</td>\n",
              "      <td>7548</td>\n",
              "      <td>31.65</td>\n",
              "      <td>1446.709677</td>\n",
              "    </tr>\n",
              "  </tbody>\n",
              "</table>\n",
              "</div>"
            ],
            "text/plain": [
              "              AVG_API  AVG_AZUFRE  ...  API_PROMEDIO_PADD    KBD_MONTH\n",
              "Date_Time                          ...                                \n",
              "2000-01-31  19.541818    2.868312  ...              31.08  1322.741935\n",
              "2000-02-29  19.345584    2.833247  ...              31.42  1519.413793\n",
              "2000-03-31  19.841379    2.866092  ...              31.23  1448.129032\n",
              "2000-04-30  19.304146    2.794390  ...              31.21  1498.666667\n",
              "2000-05-31  19.436709    2.890127  ...              31.65  1446.709677\n",
              "\n",
              "[5 rows x 6 columns]"
            ]
          },
          "metadata": {
            "tags": []
          },
          "execution_count": 5
        }
      ]
    },
    {
      "cell_type": "markdown",
      "metadata": {
        "id": "Oy0oXKKjxBsb",
        "colab_type": "text"
      },
      "source": [
        "## **Modelo NN univariado**"
      ]
    },
    {
      "cell_type": "code",
      "metadata": {
        "id": "UP5pEHkPxPZv",
        "colab_type": "code",
        "colab": {}
      },
      "source": [
        "uni=data[['KBD_MONTH']]"
      ],
      "execution_count": 0,
      "outputs": []
    },
    {
      "cell_type": "code",
      "metadata": {
        "id": "gZ9_zZs6y8XQ",
        "colab_type": "code",
        "outputId": "9ffdd608-b7ca-4478-9a2e-04b024e8ddf6",
        "colab": {
          "base_uri": "https://localhost:8080/",
          "height": 246
        }
      },
      "source": [
        "uni = uni.sort_index()\n",
        "plt.figure(figsize=(5, 3))\n",
        "uni['KBD_MONTH'].plot()"
      ],
      "execution_count": 7,
      "outputs": [
        {
          "output_type": "execute_result",
          "data": {
            "text/plain": [
              "<matplotlib.axes._subplots.AxesSubplot at 0x7f6058250630>"
            ]
          },
          "metadata": {
            "tags": []
          },
          "execution_count": 7
        },
        {
          "output_type": "display_data",
          "data": {
            "image/png": "[encoded data removed]",
            "text/plain": [
              "<Figure size 360x216 with 1 Axes>"
            ]
          },
          "metadata": {
            "tags": []
          }
        }
      ]
    },
    {
      "cell_type": "code",
      "metadata": {
        "id": "1XHrOXmH0Lgl",
        "colab_type": "code",
        "outputId": "d59ba632-4245-4f5e-d52b-134e0d195efc",
        "colab": {
          "base_uri": "https://localhost:8080/",
          "height": 229
        }
      },
      "source": [
        "split_date = pd.Timestamp('2018-05-01')\n",
        "df =  uni['KBD_MONTH']\n",
        "train = df.loc[:split_date]\n",
        "test = df.loc[split_date:]\n",
        "plt.figure(figsize=(5, 3))\n",
        "ax = train.plot()\n",
        "test.plot(ax=ax)\n",
        "plt.legend(['train', 'test']);"
      ],
      "execution_count": 8,
      "outputs": [
        {
          "output_type": "display_data",
          "data": {
            "image/png": "[encoded data removed]",
            "text/plain": [
              "<Figure size 360x216 with 1 Axes>"
            ]
          },
          "metadata": {
            "tags": []
          }
        }
      ]
    },
    {
      "cell_type": "code",
      "metadata": {
        "id": "5G1d0OKN0uJk",
        "colab_type": "code",
        "colab": {}
      },
      "source": [
        "scaler = MinMaxScaler(feature_range=(-1, 1))"
      ],
      "execution_count": 0,
      "outputs": []
    },
    {
      "cell_type": "code",
      "metadata": {
        "id": "lSxVvSV05kJH",
        "colab_type": "code",
        "colab": {}
      },
      "source": [
        "train=train.values.reshape(-1,1)\n",
        "train_sc = scaler.fit_transform(train)\n",
        "test=test.values.reshape(-1,1)\n",
        "test_sc = scaler.transform(test)"
      ],
      "execution_count": 0,
      "outputs": []
    },
    {
      "cell_type": "code",
      "metadata": {
        "id": "L19IwT-809Jw",
        "colab_type": "code",
        "colab": {}
      },
      "source": [
        "np.random.shuffle(train_sc)"
      ],
      "execution_count": 0,
      "outputs": []
    },
    {
      "cell_type": "code",
      "metadata": {
        "id": "pG1ShO_S6EHF",
        "colab_type": "code",
        "colab": {}
      },
      "source": [
        "X_train = train_sc[:-1]\n",
        "y_train = train_sc[1:]\n",
        "X_test = test_sc[:-1]\n",
        "y_test = test_sc[1:]"
      ],
      "execution_count": 0,
      "outputs": []
    },
    {
      "cell_type": "code",
      "metadata": {
        "id": "7uVAQ-1H6Jys",
        "colab_type": "code",
        "outputId": "b07f73a8-f43e-4d50-d89a-713a1d83749d",
        "colab": {
          "base_uri": "https://localhost:8080/",
          "height": 1000
        }
      },
      "source": [
        "nn_model = Sequential()\n",
        "nn_model.add(Dense(100, input_dim=1, activation='relu'))\n",
        "nn_model.add(Dense(1))\n",
        "nn_model.compile(loss='mean_squared_error', optimizer='adam')\n",
        "early_stop = EarlyStopping(monitor='loss', patience=2, verbose=1)\n",
        "history = nn_model.fit(X_train, y_train, epochs=100, batch_size=1, verbose=1,callbacks=[early_stop] ,shuffle=False)"
      ],
      "execution_count": 14,
      "outputs": [
        {
          "output_type": "stream",
          "text": [
            "WARNING:tensorflow:From /usr/local/lib/python3.6/dist-packages/keras/backend/tensorflow_backend.py:1033: The name tf.assign_add is deprecated. Please use tf.compat.v1.assign_add instead.\n",
            "\n",
            "WARNING:tensorflow:From /usr/local/lib/python3.6/dist-packages/keras/backend/tensorflow_backend.py:1020: The name tf.assign is deprecated. Please use tf.compat.v1.assign instead.\n",
            "\n",
            "Epoch 1/100\n",
            "219/219 [==============================] - 5s 23ms/step - loss: 0.1332\n",
            "Epoch 2/100\n",
            "219/219 [==============================] - 1s 3ms/step - loss: 0.1299\n",
            "Epoch 3/100\n",
            "219/219 [==============================] - 1s 3ms/step - loss: 0.1294\n",
            "Epoch 4/100\n",
            "219/219 [==============================] - 1s 3ms/step - loss: 0.1291\n",
            "Epoch 5/100\n",
            "219/219 [==============================] - 1s 3ms/step - loss: 0.1289\n",
            "Epoch 6/100\n",
            "219/219 [==============================] - 1s 3ms/step - loss: 0.1287\n",
            "Epoch 7/100\n",
            "219/219 [==============================] - 1s 3ms/step - loss: 0.1286\n",
            "Epoch 8/100\n",
            "219/219 [==============================] - 1s 3ms/step - loss: 0.1285\n",
            "Epoch 9/100\n",
            "219/219 [==============================] - 1s 3ms/step - loss: 0.1284\n",
            "Epoch 10/100\n",
            "219/219 [==============================] - 1s 3ms/step - loss: 0.1283\n",
            "Epoch 11/100\n",
            "219/219 [==============================] - 1s 4ms/step - loss: 0.1283\n",
            "Epoch 12/100\n",
            "219/219 [==============================] - 1s 4ms/step - loss: 0.1282\n",
            "Epoch 13/100\n",
            "219/219 [==============================] - 1s 3ms/step - loss: 0.1281\n",
            "Epoch 14/100\n",
            "219/219 [==============================] - 1s 3ms/step - loss: 0.1281\n",
            "Epoch 15/100\n",
            "219/219 [==============================] - 1s 3ms/step - loss: 0.1280\n",
            "Epoch 16/100\n",
            "219/219 [==============================] - 1s 3ms/step - loss: 0.1280\n",
            "Epoch 17/100\n",
            "219/219 [==============================] - 1s 3ms/step - loss: 0.1279\n",
            "Epoch 18/100\n",
            "219/219 [==============================] - 1s 4ms/step - loss: 0.1279\n",
            "Epoch 19/100\n",
            "219/219 [==============================] - 1s 4ms/step - loss: 0.1279\n",
            "Epoch 20/100\n",
            "219/219 [==============================] - 1s 3ms/step - loss: 0.1278\n",
            "Epoch 21/100\n",
            "219/219 [==============================] - 1s 4ms/step - loss: 0.1278\n",
            "Epoch 22/100\n",
            "219/219 [==============================] - 1s 4ms/step - loss: 0.1278\n",
            "Epoch 23/100\n",
            "219/219 [==============================] - 1s 3ms/step - loss: 0.1277\n",
            "Epoch 24/100\n",
            "219/219 [==============================] - 1s 3ms/step - loss: 0.1277\n",
            "Epoch 25/100\n",
            "219/219 [==============================] - 1s 3ms/step - loss: 0.1276\n",
            "Epoch 26/100\n",
            "219/219 [==============================] - 1s 4ms/step - loss: 0.1276\n",
            "Epoch 27/100\n",
            "219/219 [==============================] - 1s 3ms/step - loss: 0.1275\n",
            "Epoch 28/100\n",
            "219/219 [==============================] - 1s 3ms/step - loss: 0.1275\n",
            "Epoch 29/100\n",
            "219/219 [==============================] - 1s 3ms/step - loss: 0.1275\n",
            "Epoch 30/100\n",
            "219/219 [==============================] - 1s 3ms/step - loss: 0.1275\n",
            "Epoch 31/100\n",
            "219/219 [==============================] - 1s 3ms/step - loss: 0.1274\n",
            "Epoch 32/100\n",
            "219/219 [==============================] - 1s 3ms/step - loss: 0.1274\n",
            "Epoch 33/100\n",
            "219/219 [==============================] - 1s 3ms/step - loss: 0.1274\n",
            "Epoch 34/100\n",
            "219/219 [==============================] - 1s 3ms/step - loss: 0.1273\n",
            "Epoch 35/100\n",
            "219/219 [==============================] - 1s 3ms/step - loss: 0.1273\n",
            "Epoch 36/100\n",
            "219/219 [==============================] - 1s 3ms/step - loss: 0.1273\n",
            "Epoch 37/100\n",
            "219/219 [==============================] - 1s 3ms/step - loss: 0.1272\n",
            "Epoch 38/100\n",
            "219/219 [==============================] - 1s 4ms/step - loss: 0.1272\n",
            "Epoch 39/100\n",
            "219/219 [==============================] - 1s 4ms/step - loss: 0.1271\n",
            "Epoch 40/100\n",
            "219/219 [==============================] - 1s 4ms/step - loss: 0.1271\n",
            "Epoch 41/100\n",
            "219/219 [==============================] - 1s 3ms/step - loss: 0.1270\n",
            "Epoch 42/100\n",
            "219/219 [==============================] - 1s 3ms/step - loss: 0.1270\n",
            "Epoch 43/100\n",
            "219/219 [==============================] - 1s 3ms/step - loss: 0.1270\n",
            "Epoch 00043: early stopping\n"
          ],
          "name": "stdout"
        }
      ]
    },
    {
      "cell_type": "code",
      "metadata": {
        "id": "7ZUX8dB96kFs",
        "colab_type": "code",
        "outputId": "91c2eff4-7408-4d1f-abb8-87f27536eef9",
        "colab": {
          "base_uri": "https://localhost:8080/",
          "height": 51
        }
      },
      "source": [
        "y_pred_test_nn = nn_model.predict(X_test)\n",
        "y_train_pred_nn = nn_model.predict(X_train)\n",
        "print(\"The R2 score on the Train set is:\\t{:0.3f}\".format(r2_score(y_train, y_train_pred_nn)))\n",
        "print(\"The R2 score on the Test set is:\\t{:0.3f}\".format(r2_score(y_test, y_pred_test_nn)))"
      ],
      "execution_count": 15,
      "outputs": [
        {
          "output_type": "stream",
          "text": [
            "The R2 score on the Train set is:\t0.029\n",
            "The R2 score on the Test set is:\t-0.845\n"
          ],
          "name": "stdout"
        }
      ]
    },
    {
      "cell_type": "code",
      "metadata": {
        "id": "gHO6oP8j7WFn",
        "colab_type": "code",
        "colab": {}
      },
      "source": [
        "nn_y_pred_test = nn_model.predict(X_test)"
      ],
      "execution_count": 0,
      "outputs": []
    },
    {
      "cell_type": "code",
      "metadata": {
        "id": "VCu9sdx2CZ0m",
        "colab_type": "code",
        "outputId": "41fc8c5e-89e0-45d0-8585-9a88046c907d",
        "colab": {
          "base_uri": "https://localhost:8080/",
          "height": 51
        }
      },
      "source": [
        "nn_test_mse = nn_model.evaluate(X_test, y_test, batch_size=1)\n",
        "print('NN: %f'%nn_test_mse)"
      ],
      "execution_count": 17,
      "outputs": [
        {
          "output_type": "stream",
          "text": [
            "12/12 [==============================] - 0s 5ms/step\n",
            "NN: 0.235329\n"
          ],
          "name": "stdout"
        }
      ]
    },
    {
      "cell_type": "code",
      "metadata": {
        "id": "eG-rXKc3GNJy",
        "colab_type": "code",
        "colab": {}
      },
      "source": [
        "test_predict = scaler.inverse_transform(y_pred_test_nn)\n",
        "test = df.loc[split_date:]\n",
        "test=test.values.reshape(-1,1)\n",
        "y_test = test[1:]"
      ],
      "execution_count": 0,
      "outputs": []
    },
    {
      "cell_type": "code",
      "metadata": {
        "id": "2mQjubA3Gpn6",
        "colab_type": "code",
        "outputId": "9688f11f-c5f2-4889-992e-ffc86bdc10d2",
        "colab": {
          "base_uri": "https://localhost:8080/",
          "height": 34
        }
      },
      "source": [
        "print(np.sqrt(mean_squared_error(y_test,y_pred_test_nn)))"
      ],
      "execution_count": 19,
      "outputs": [
        {
          "output_type": "stream",
          "text": [
            "1889.8084279830814\n"
          ],
          "name": "stdout"
        }
      ]
    },
    {
      "cell_type": "code",
      "metadata": {
        "id": "8EFLuAsFEeKq",
        "colab_type": "code",
        "outputId": "af196809-3bea-4263-f0cf-345b1301b9f8",
        "colab": {
          "base_uri": "https://localhost:8080/",
          "height": 241
        }
      },
      "source": [
        "plt.figure(figsize=(5, 3))\n",
        "plt.plot(y_test, label='True')\n",
        "plt.plot(test_predict, label='NN')\n",
        "plt.title(\"NN's Prediction\")\n",
        "plt.xlabel('Observation')\n",
        "plt.ylabel('Adj Close Scaled')\n",
        "plt.legend()\n",
        "plt.show();"
      ],
      "execution_count": 20,
      "outputs": [
        {
          "output_type": "display_data",
          "data": {
            "image/png": "[encoded data removed]",
            "text/plain": [
              "<Figure size 360x216 with 1 Axes>"
            ]
          },
          "metadata": {
            "tags": []
          }
        }
      ]
    },
    {
      "cell_type": "markdown",
      "metadata": {
        "id": "wcKaNgwGNhru",
        "colab_type": "text"
      },
      "source": [
        "## **Modelo univariado (con look_back)**"
      ]
    },
    {
      "cell_type": "code",
      "metadata": {
        "id": "ikoSlrAlLdUk",
        "colab_type": "code",
        "colab": {}
      },
      "source": [
        "split_date = pd.Timestamp('2018-05-01')\n",
        "dataset =  uni['KBD_MONTH']\n",
        "train = dataset.loc[:split_date]\n",
        "test = dataset.loc[split_date:]"
      ],
      "execution_count": 0,
      "outputs": []
    },
    {
      "cell_type": "code",
      "metadata": {
        "id": "NyeAdR68VO6Y",
        "colab_type": "code",
        "colab": {}
      },
      "source": [
        "def create_dataset(dataset2, look_back=1):\n",
        "\tdataX, dataY = [], []\n",
        "\tfor i in range(len(dataset2)-look_back-1):\n",
        "\t\ta = dataset2[i:(i+look_back)]\n",
        "\t\tdataX.append(a)\n",
        "\t\tdataY.append(dataset2[i + look_back])\n",
        "\treturn np.array(dataX), np.array(dataY)"
      ],
      "execution_count": 0,
      "outputs": []
    },
    {
      "cell_type": "code",
      "metadata": {
        "id": "lGXsJeUPVbE7",
        "colab_type": "code",
        "colab": {}
      },
      "source": [
        "look_back = 1\n",
        "trainX, trainY = create_dataset(train, look_back)\n",
        "testX, testY = create_dataset(test, look_back)"
      ],
      "execution_count": 0,
      "outputs": []
    },
    {
      "cell_type": "code",
      "metadata": {
        "id": "tfbEcMdiP7Qq",
        "colab_type": "code",
        "outputId": "016e085b-144f-4d40-f71b-ff5b137d14fd",
        "colab": {
          "base_uri": "https://localhost:8080/",
          "height": 595
        }
      },
      "source": [
        "model = Sequential()\n",
        "model.add(Dense(8, input_dim=look_back, activation='relu'))\n",
        "model.add(Dense(1))\n",
        "model.compile(loss='mean_squared_error', optimizer='adam')\n",
        "early_stop = EarlyStopping(monitor='loss', patience=2, verbose=1)\n",
        "model.fit(trainX, trainY, epochs=200, batch_size=2,callbacks=[early_stop], verbose=2)"
      ],
      "execution_count": 82,
      "outputs": [
        {
          "output_type": "stream",
          "text": [
            "Epoch 1/200\n",
            " - 1s - loss: 6779415.6055\n",
            "Epoch 2/200\n",
            " - 0s - loss: 4284823.4576\n",
            "Epoch 3/200\n",
            " - 0s - loss: 2719321.7534\n",
            "Epoch 4/200\n",
            " - 0s - loss: 1591801.4891\n",
            "Epoch 5/200\n",
            " - 0s - loss: 826036.6712\n",
            "Epoch 6/200\n",
            " - 0s - loss: 378075.7540\n",
            "Epoch 7/200\n",
            " - 0s - loss: 162010.3390\n",
            "Epoch 8/200\n",
            " - 0s - loss: 78019.8858\n",
            "Epoch 9/200\n",
            " - 0s - loss: 51820.5609\n",
            "Epoch 10/200\n",
            " - 0s - loss: 45413.9399\n",
            "Epoch 11/200\n",
            " - 0s - loss: 44338.9321\n",
            "Epoch 12/200\n",
            " - 0s - loss: 44139.1828\n",
            "Epoch 13/200\n",
            " - 0s - loss: 44123.4611\n",
            "Epoch 14/200\n",
            " - 0s - loss: 44043.3112\n",
            "Epoch 15/200\n",
            " - 0s - loss: 44268.5516\n",
            "Epoch 16/200\n",
            " - 0s - loss: 44123.2914\n",
            "Epoch 00016: early stopping\n"
          ],
          "name": "stdout"
        },
        {
          "output_type": "execute_result",
          "data": {
            "text/plain": [
              "<keras.callbacks.History at 0x7f60082cbe48>"
            ]
          },
          "metadata": {
            "tags": []
          },
          "execution_count": 82
        }
      ]
    },
    {
      "cell_type": "code",
      "metadata": {
        "id": "4ZOVhMK8VyQg",
        "colab_type": "code",
        "outputId": "4f3f06ec-73a3-4b5d-e727-8b9353daf9cb",
        "colab": {
          "base_uri": "https://localhost:8080/",
          "height": 51
        }
      },
      "source": [
        "trainScore = model.evaluate(trainX, trainY, verbose=0)\n",
        "print('Train Score: %.2f MSE (%.2f RMSE)' % (trainScore, math.sqrt(trainScore)))\n",
        "testScore = model.evaluate(testX, testY, verbose=0)\n",
        "print('Test Score: %.2f MSE (%.2f RMSE)' % (testScore, math.sqrt(testScore)))"
      ],
      "execution_count": 86,
      "outputs": [
        {
          "output_type": "stream",
          "text": [
            "Train Score: 43994.65 MSE (209.75 RMSE)\n",
            "Test Score: 39001.03 MSE (197.49 RMSE)\n"
          ],
          "name": "stdout"
        }
      ]
    },
    {
      "cell_type": "code",
      "metadata": {
        "id": "Trxp3WQtV7tX",
        "colab_type": "code",
        "colab": {}
      },
      "source": [
        "trainPredict = model.predict(trainX)\n",
        "testPredict = model.predict(testX)"
      ],
      "execution_count": 0,
      "outputs": []
    },
    {
      "cell_type": "code",
      "metadata": {
        "id": "_0AS62HqWFRk",
        "colab_type": "code",
        "outputId": "7a47ed99-7c03-424d-9a6b-7a13eedd9504",
        "colab": {
          "base_uri": "https://localhost:8080/",
          "height": 241
        }
      },
      "source": [
        "plt.figure(figsize=(5, 3))\n",
        "plt.plot(testY, label='True')\n",
        "plt.plot(testPredict, label='NN')\n",
        "plt.title(\"NN's Prediction\")\n",
        "plt.xlabel('Observation')\n",
        "plt.ylabel('Adj Close Scaled')\n",
        "plt.legend()\n",
        "plt.show();"
      ],
      "execution_count": 88,
      "outputs": [
        {
          "output_type": "display_data",
          "data": {
            "image/png": "[encoded data removed]",
            "text/plain": [
              "<Figure size 360x216 with 1 Axes>"
            ]
          },
          "metadata": {
            "tags": []
          }
        }
      ]
    },
    {
      "cell_type": "markdown",
      "metadata": {
        "id": "cuHFAlSxnXes",
        "colab_type": "text"
      },
      "source": [
        "## **Modelo NN Multivariado (con variables significativas)**\n",
        "\n"
      ]
    },
    {
      "cell_type": "code",
      "metadata": {
        "id": "TAW9zBY9ngGe",
        "colab_type": "code",
        "colab": {}
      },
      "source": [
        "from pandas import DataFrame\n",
        "from pandas import read_csv\n",
        "from pandas import concat\n",
        "from sklearn.preprocessing import MinMaxScaler\n",
        "from sklearn.preprocessing import LabelEncoder\n",
        "from sklearn.metrics import mean_squared_error\n",
        "from keras.models import Sequential\n",
        "from keras.layers import Dense\n",
        "from keras.layers import LSTM\n",
        "from math import sqrt\n",
        "from matplotlib import pyplot\n",
        "from numpy import concatenate\n",
        "from numpy import diff\n",
        "import numpy\n",
        "import pandas\n",
        "from numpy.random import seed\n",
        "seed(1)\n",
        "from tensorflow import set_random_seed\n",
        "set_random_seed(2)\n",
        "# convert series to supervised learning\n",
        "def series_to_supervised(data, n_in, n_out=1, dropnan=True):\n",
        "    \"\"\"\n",
        "    Frame a time series as a supervised learning dataset.\n",
        "    Arguments:\n",
        "        data: Sequence of observations as a list or NumPy array.\n",
        "        n_in: Number of lag observations as input (X).\n",
        "        n_out: Number of observations as output (y).\n",
        "        dropnan: Boolean whether or not to drop rows with NaN values.\n",
        "    Returns:\n",
        "        Pandas DataFrame of series framed for supervised learning.\n",
        "    \"\"\"\n",
        "    n_vars = 1 if type(data) is list else data.shape[1]\n",
        "    df = DataFrame(data)\n",
        "    cols, names = list(), list()\n",
        "    # input sequence (t-n, ... t-1)\n",
        "    for i in range(n_in, 0, -1):\n",
        "        cols.append(df.shift(i))\n",
        "        names += [('var%d(t-%d)' % (j+1, i)) for j in range(n_vars)]\n",
        "    # forecast sequence (t, t+1, ... t+n)\n",
        "    for i in range(0, n_out):\n",
        "        cols.append(df.shift(-i))\n",
        "        if i == 0:\n",
        "            names += [('var%d(t)' % (j+1)) for j in range(n_vars)]\n",
        "        else:\n",
        "            names += [('var%d(t+%d)' % (j+1, i)) for j in range(n_vars)]\n",
        "    # put it all together\n",
        "    agg = concat(cols, axis=1)\n",
        "    agg.columns = names\n",
        "    # drop rows with NaN values\n",
        "    if dropnan:\n",
        "        agg.dropna(inplace=True)\n",
        "    return agg"
      ],
      "execution_count": 0,
      "outputs": []
    },
    {
      "cell_type": "code",
      "metadata": {
        "id": "QzmA9Iv2fnlw",
        "colab_type": "code",
        "colab": {}
      },
      "source": [
        "df = data[['KBD_MONTH','API_PROMEDIO_PADD','PERCENT_UTILIZACION_PADD']]\n",
        "values = df.values"
      ],
      "execution_count": 0,
      "outputs": []
    },
    {
      "cell_type": "code",
      "metadata": {
        "id": "-soMD5BGf2iy",
        "colab_type": "code",
        "colab": {}
      },
      "source": [
        "# normalize features\n",
        "values = df.values\n",
        "scaler = MinMaxScaler(feature_range=(0, 1))\n",
        "scaled = scaler.fit_transform(values)\n",
        "# frame as supervised learning\n",
        "reframed = series_to_supervised(scaled, 1, 1)\n",
        "reframed.drop(reframed.columns[[4,5]], axis=1, inplace=True)\n",
        "values = reframed.values\n",
        "values = reframed.values"
      ],
      "execution_count": 0,
      "outputs": []
    },
    {
      "cell_type": "code",
      "metadata": {
        "id": "bzA9xUFBj9Ya",
        "colab_type": "code",
        "colab": {}
      },
      "source": [
        "n_train = -12 # last 12 months to test\n",
        "\n",
        "train, test = values[0:n_train], values[n_train:]\n",
        "# split into input (all columns exceptc last one) and outputs (last column)\n",
        "train_X, train_y = train[:, :-1], train[:, -1]\n",
        "test_X, test_y = test[:, :-1], test[:, -1]"
      ],
      "execution_count": 0,
      "outputs": []
    },
    {
      "cell_type": "code",
      "metadata": {
        "colab_type": "code",
        "outputId": "77cb1fcc-c825-4b47-8072-8bbddfebe2c0",
        "id": "_My3-sc9lZTD",
        "colab": {
          "base_uri": "https://localhost:8080/",
          "height": 34
        }
      },
      "source": [
        "test_X.shape"
      ],
      "execution_count": 93,
      "outputs": [
        {
          "output_type": "execute_result",
          "data": {
            "text/plain": [
              "(12, 3)"
            ]
          },
          "metadata": {
            "tags": []
          },
          "execution_count": 93
        }
      ]
    },
    {
      "cell_type": "code",
      "metadata": {
        "id": "qzD0l-isj4l1",
        "colab_type": "code",
        "outputId": "602c059f-1ef9-473f-9616-28f49effdaf8",
        "colab": {
          "base_uri": "https://localhost:8080/",
          "height": 1000
        }
      },
      "source": [
        "neurons = 200\n",
        "batch_size = 1\n",
        "epochs = 70\n",
        "def create_model():\n",
        "    model = Sequential()\n",
        "    model.add(Dense(neurons, input_dim=3, activation='relu'))\n",
        "    model.add(Dense(1))\n",
        "    model.compile(loss='mean_squared_error', optimizer='adam')\n",
        "    #history = model.fit(train_X, train_y, epochs=epochs, batch_size=batch_size, validation_data=(test_X, test_y), verbose=0, shuffle=False)\n",
        "    history = model.fit(train_X, train_y, epochs=epochs, batch_size=batch_size, validation_data=(test_X, test_y),\n",
        "                        callbacks=[EarlyStopping(monitor='val_loss', patience=10)], verbose=1, shuffle=False)\n",
        "    return model, history\n",
        "model, history  = create_model()\n",
        "model.summary()"
      ],
      "execution_count": 94,
      "outputs": [
        {
          "output_type": "stream",
          "text": [
            "Train on 220 samples, validate on 12 samples\n",
            "Epoch 1/70\n",
            "220/220 [==============================] - 1s 5ms/step - loss: 0.0208 - val_loss: 0.0290\n",
            "Epoch 2/70\n",
            "220/220 [==============================] - 1s 3ms/step - loss: 0.0212 - val_loss: 0.0286\n",
            "Epoch 3/70\n",
            "220/220 [==============================] - 1s 4ms/step - loss: 0.0202 - val_loss: 0.0261\n",
            "Epoch 4/70\n",
            "220/220 [==============================] - 1s 4ms/step - loss: 0.0195 - val_loss: 0.0243\n",
            "Epoch 5/70\n",
            "220/220 [==============================] - 1s 4ms/step - loss: 0.0189 - val_loss: 0.0239\n",
            "Epoch 6/70\n",
            "220/220 [==============================] - 1s 3ms/step - loss: 0.0185 - val_loss: 0.0219\n",
            "Epoch 7/70\n",
            "220/220 [==============================] - 1s 4ms/step - loss: 0.0180 - val_loss: 0.0213\n",
            "Epoch 8/70\n",
            "220/220 [==============================] - 1s 4ms/step - loss: 0.0177 - val_loss: 0.0208\n",
            "Epoch 9/70\n",
            "220/220 [==============================] - 1s 4ms/step - loss: 0.0174 - val_loss: 0.0202\n",
            "Epoch 10/70\n",
            "220/220 [==============================] - 1s 3ms/step - loss: 0.0172 - val_loss: 0.0195\n",
            "Epoch 11/70\n",
            "220/220 [==============================] - 1s 3ms/step - loss: 0.0169 - val_loss: 0.0199\n",
            "Epoch 12/70\n",
            "220/220 [==============================] - 1s 4ms/step - loss: 0.0169 - val_loss: 0.0199\n",
            "Epoch 13/70\n",
            "220/220 [==============================] - 1s 3ms/step - loss: 0.0167 - val_loss: 0.0192\n",
            "Epoch 14/70\n",
            "220/220 [==============================] - 1s 3ms/step - loss: 0.0165 - val_loss: 0.0198\n",
            "Epoch 15/70\n",
            "220/220 [==============================] - 1s 3ms/step - loss: 0.0165 - val_loss: 0.0200\n",
            "Epoch 16/70\n",
            "220/220 [==============================] - 1s 3ms/step - loss: 0.0165 - val_loss: 0.0201\n",
            "Epoch 17/70\n",
            "220/220 [==============================] - 1s 3ms/step - loss: 0.0164 - val_loss: 0.0195\n",
            "Epoch 18/70\n",
            "220/220 [==============================] - 1s 3ms/step - loss: 0.0164 - val_loss: 0.0199\n",
            "Epoch 19/70\n",
            "220/220 [==============================] - 1s 3ms/step - loss: 0.0164 - val_loss: 0.0201\n",
            "Epoch 20/70\n",
            "220/220 [==============================] - 1s 3ms/step - loss: 0.0163 - val_loss: 0.0199\n",
            "Epoch 21/70\n",
            "220/220 [==============================] - 1s 3ms/step - loss: 0.0163 - val_loss: 0.0195\n",
            "Epoch 22/70\n",
            "220/220 [==============================] - 1s 4ms/step - loss: 0.0163 - val_loss: 0.0200\n",
            "Epoch 23/70\n",
            "220/220 [==============================] - 1s 3ms/step - loss: 0.0164 - val_loss: 0.0199\n",
            "Model: \"sequential_9\"\n",
            "_________________________________________________________________\n",
            "Layer (type)                 Output Shape              Param #   \n",
            "=================================================================\n",
            "dense_17 (Dense)             (None, 200)               800       \n",
            "_________________________________________________________________\n",
            "dense_18 (Dense)             (None, 1)                 201       \n",
            "=================================================================\n",
            "Total params: 1,001\n",
            "Trainable params: 1,001\n",
            "Non-trainable params: 0\n",
            "_________________________________________________________________\n"
          ],
          "name": "stdout"
        }
      ]
    },
    {
      "cell_type": "code",
      "metadata": {
        "id": "zbhtwE7LIw3W",
        "colab_type": "code",
        "colab": {
          "base_uri": "https://localhost:8080/",
          "height": 214
        },
        "outputId": "71a8f044-7300-4324-a571-43811eef4956"
      },
      "source": [
        "fig = plt.figure(figsize=(5, 3))\n",
        "pyplot.clf()\n",
        "pyplot.plot(history.history['loss'], label='train')\n",
        "pyplot.plot(history.history['val_loss'], label='test')\n",
        "pyplot.legend()\n",
        "pyplot.show()\n",
        "\n",
        "yhat = model.predict(test_X)\n",
        "# test_X = test_X.reshape((test_X.shape[0], test_X.shape[2]))"
      ],
      "execution_count": 95,
      "outputs": [
        {
          "output_type": "display_data",
          "data": {
            "image/png": "[encoded data removed]",
            "text/plain": [
              "<Figure size 360x216 with 1 Axes>"
            ]
          },
          "metadata": {
            "tags": []
          }
        }
      ]
    },
    {
      "cell_type": "code",
      "metadata": {
        "id": "F4JxtlvZgUWi",
        "colab_type": "code",
        "outputId": "ffe9ed28-dcbc-4acb-d758-57634fb31bb3",
        "colab": {
          "base_uri": "https://localhost:8080/",
          "height": 301
        }
      },
      "source": [
        "# invert scaling for forecast\n",
        "inv_yhat = concatenate((yhat, test_X[:, 1:]), axis=1)\n",
        "inv_yhat = scaler.inverse_transform(inv_yhat)\n",
        "inv_yhat = inv_yhat[:,0]\n",
        "# invert scaling for actual - observed data\n",
        "test_y = test_y.reshape((len(test_y), 1))\n",
        "inv_y = concatenate((test_y, test_X[:, 1:]), axis=1)\n",
        "inv_y = scaler.inverse_transform(inv_y)\n",
        "inv_y = inv_y[:,0]\n",
        "fig = plt.figure(figsize=(5, 3))\n",
        "pyplot.clf()\n",
        "pyplot.plot(inv_yhat, label=\"model\")\n",
        "pyplot.plot(inv_y, label=\"observed\")\n",
        "plt.ylabel('KBD Month', size=15)\n",
        "plt.xlabel('Time Forward (Monthly)', size=15)\n",
        "plt.legend(fontsize=15)\n",
        "24\n",
        "pyplot.show()\n",
        "print('Train Mean Absolute Error: ', mean_absolute_error(inv_yhat, inv_y))\n",
        "print('Train Root Mean Square Error: ', np.sqrt(mean_squared_error(inv_yhat, inv_y)))\n",
        "print('Test Mean Absolute Error: ', mean_absolute_error(inv_yhat, inv_y))\n",
        "print('Test Root Mean Squared Error: ', np.sqrt(mean_squared_error(inv_yhat, inv_y)))"
      ],
      "execution_count": 96,
      "outputs": [
        {
          "output_type": "display_data",
          "data": {
            "image/png": "[encoded data removed]",
            "text/plain": [
              "<Figure size 360x216 with 1 Axes>"
            ]
          },
          "metadata": {
            "tags": []
          }
        },
        {
          "output_type": "stream",
          "text": [
            "Train Mean Absolute Error:  143.3817751556433\n",
            "Train Root Mean Square Error:  196.39226356764715\n",
            "Test Mean Absolute Error:  143.3817751556433\n",
            "Test Root Mean Squared Error:  196.39226356764715\n"
          ],
          "name": "stdout"
        }
      ]
    }
  ]
}