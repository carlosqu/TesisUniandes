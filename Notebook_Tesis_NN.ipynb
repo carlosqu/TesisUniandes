{
  "nbformat": 4,
  "nbformat_minor": 0,
  "metadata": {
    "colab": {
      "name": "Notebook_Tesis-NN.ipynb",
      "provenance": [],
      "collapsed_sections": [],
      "toc_visible": true,
      "include_colab_link": true
    },
    "kernelspec": {
      "name": "python3",
      "display_name": "Python 3"
    },
    "accelerator": "GPU"
  },
  "cells": [
    {
      "cell_type": "markdown",
      "metadata": {
        "id": "view-in-github",
        "colab_type": "text"
      },
      "source": [
        "<a href=\"https://colab.research.google.com/github/carlosqu/TesisUniandes/blob/master/Notebook_Tesis_NN.ipynb\" target=\"_parent\"><img src=\"https://colab.research.google.com/assets/colab-badge.svg\" alt=\"Open In Colab\"/></a>"
      ]
    },
    {
      "cell_type": "code",
      "metadata": {
        "id": "C2h8la-cUSO-",
        "colab_type": "code",
        "colab": {}
      },
      "source": [
        "import pandas as pd\n",
        "import numpy as np\n",
        "import matplotlib as plt\n",
        "from matplotlib import figure\n",
        "from matplotlib import *\n",
        "import sys\n",
        "from pylab import *\n",
        "from numpy import array\n",
        "from keras.models import Sequential\n",
        "from keras.layers import Dense\n",
        "from sklearn.metrics import mean_squared_error\n",
        "from keras.layers import Flatten\n",
        "from keras.layers.convolutional import Conv1D\n",
        "from keras.layers.convolutional import MaxPooling1D\n",
        "from sklearn.preprocessing import MinMaxScaler\n",
        "from keras.callbacks import EarlyStopping, ModelCheckpoint\n",
        "from sklearn.metrics import r2_score\n",
        "from sklearn.metrics import mean_absolute_error"
      ],
      "execution_count": 0,
      "outputs": []
    },
    {
      "cell_type": "code",
      "metadata": {
        "id": "JcOpsooicjvp",
        "colab_type": "code",
        "outputId": "24d51377-d62d-4243-f667-f1a17b340312",
        "colab": {
          "base_uri": "https://localhost:8080/",
          "height": 122
        }
      },
      "source": [
        "from google.colab import drive\n",
        "drive.mount('/content/drive')"
      ],
      "execution_count": 3,
      "outputs": [
        {
          "output_type": "stream",
          "text": [
            "Go to this URL in a browser: https://accounts.google.com/o/oauth2/auth?client_id=947318989803-6bn6qk8qdgf4n4g3pfee6491hc0brc4i.apps.googleusercontent.com&redirect_uri=urn%3Aietf%3Awg%3Aoauth%3A2.0%3Aoob&scope=email%20https%3A%2F%2Fwww.googleapis.com%2Fauth%2Fdocs.test%20https%3A%2F%2Fwww.googleapis.com%2Fauth%2Fdrive%20https%3A%2F%2Fwww.googleapis.com%2Fauth%2Fdrive.photos.readonly%20https%3A%2F%2Fwww.googleapis.com%2Fauth%2Fpeopleapi.readonly&response_type=code\n",
            "\n",
            "Enter your authorization code:\n",
            "··········\n",
            "Mounted at /content/drive\n"
          ],
          "name": "stdout"
        }
      ]
    },
    {
      "cell_type": "code",
      "metadata": {
        "id": "7d-CInnIbcvj",
        "colab_type": "code",
        "outputId": "ea8178e3-9929-4d18-ee79-f4bbcba1fc65",
        "colab": {
          "base_uri": "https://localhost:8080/",
          "height": 221
        }
      },
      "source": [
        "data=pd.read_excel('/content/drive/My Drive/tesis/Universidad de los andes/Luis Francisco Ortiz Santamaria - Balance Demanda/Datos/EIA/Importaciones Refinerias/DF_2000.xlsx')\n",
        "data.info()"
      ],
      "execution_count": 31,
      "outputs": [
        {
          "output_type": "stream",
          "text": [
            "<class 'pandas.core.frame.DataFrame'>\n",
            "RangeIndex: 233 entries, 0 to 232\n",
            "Data columns (total 7 columns):\n",
            "DATE                        233 non-null datetime64[ns]\n",
            "AVG_API                     233 non-null float64\n",
            "AVG_AZUFRE                  233 non-null float64\n",
            "PERCENT_UTILIZACION_PADD    233 non-null float64\n",
            "CAPACIDAD                   233 non-null int64\n",
            "API_PROMEDIO_PADD           233 non-null float64\n",
            "KBD_MONTH                   233 non-null float64\n",
            "dtypes: datetime64[ns](1), float64(5), int64(1)\n",
            "memory usage: 12.8 KB\n"
          ],
          "name": "stdout"
        }
      ]
    },
    {
      "cell_type": "code",
      "metadata": {
        "id": "zBegjij3dZzd",
        "colab_type": "code",
        "outputId": "b1f887c0-612d-48dc-e634-380fa5de78ef",
        "colab": {
          "base_uri": "https://localhost:8080/",
          "height": 235
        }
      },
      "source": [
        "data['Date_Time'] = pd.to_datetime(data.DATE , format = '%m/%d/%Y')\n",
        "data.index = data.Date_Time\n",
        "data = data.drop(['Date_Time'], axis=1)\n",
        "data = data.drop(['DATE'], axis=1)\n",
        "data.head()"
      ],
      "execution_count": 32,
      "outputs": [
        {
          "output_type": "execute_result",
          "data": {
            "text/html": [
              "<div>\n",
              "<style scoped>\n",
              "    .dataframe tbody tr th:only-of-type {\n",
              "        vertical-align: middle;\n",
              "    }\n",
              "\n",
              "    .dataframe tbody tr th {\n",
              "        vertical-align: top;\n",
              "    }\n",
              "\n",
              "    .dataframe thead th {\n",
              "        text-align: right;\n",
              "    }\n",
              "</style>\n",
              "<table border=\"1\" class=\"dataframe\">\n",
              "  <thead>\n",
              "    <tr style=\"text-align: right;\">\n",
              "      <th></th>\n",
              "      <th>AVG_API</th>\n",
              "      <th>AVG_AZUFRE</th>\n",
              "      <th>PERCENT_UTILIZACION_PADD</th>\n",
              "      <th>CAPACIDAD</th>\n",
              "      <th>API_PROMEDIO_PADD</th>\n",
              "      <th>KBD_MONTH</th>\n",
              "    </tr>\n",
              "    <tr>\n",
              "      <th>Date_Time</th>\n",
              "      <th></th>\n",
              "      <th></th>\n",
              "      <th></th>\n",
              "      <th></th>\n",
              "      <th></th>\n",
              "      <th></th>\n",
              "    </tr>\n",
              "  </thead>\n",
              "  <tbody>\n",
              "    <tr>\n",
              "      <th>2000-01-31</th>\n",
              "      <td>19.541818</td>\n",
              "      <td>2.868312</td>\n",
              "      <td>86.5</td>\n",
              "      <td>7553</td>\n",
              "      <td>31.08</td>\n",
              "      <td>1322.741935</td>\n",
              "    </tr>\n",
              "    <tr>\n",
              "      <th>2000-02-29</th>\n",
              "      <td>19.345584</td>\n",
              "      <td>2.833247</td>\n",
              "      <td>87.9</td>\n",
              "      <td>7546</td>\n",
              "      <td>31.42</td>\n",
              "      <td>1519.413793</td>\n",
              "    </tr>\n",
              "    <tr>\n",
              "      <th>2000-03-31</th>\n",
              "      <td>19.841379</td>\n",
              "      <td>2.866092</td>\n",
              "      <td>91.5</td>\n",
              "      <td>7548</td>\n",
              "      <td>31.23</td>\n",
              "      <td>1448.129032</td>\n",
              "    </tr>\n",
              "    <tr>\n",
              "      <th>2000-04-30</th>\n",
              "      <td>19.304146</td>\n",
              "      <td>2.794390</td>\n",
              "      <td>93.1</td>\n",
              "      <td>7548</td>\n",
              "      <td>31.21</td>\n",
              "      <td>1498.666667</td>\n",
              "    </tr>\n",
              "    <tr>\n",
              "      <th>2000-05-31</th>\n",
              "      <td>19.436709</td>\n",
              "      <td>2.890127</td>\n",
              "      <td>94.9</td>\n",
              "      <td>7548</td>\n",
              "      <td>31.65</td>\n",
              "      <td>1446.709677</td>\n",
              "    </tr>\n",
              "  </tbody>\n",
              "</table>\n",
              "</div>"
            ],
            "text/plain": [
              "              AVG_API  AVG_AZUFRE  ...  API_PROMEDIO_PADD    KBD_MONTH\n",
              "Date_Time                          ...                                \n",
              "2000-01-31  19.541818    2.868312  ...              31.08  1322.741935\n",
              "2000-02-29  19.345584    2.833247  ...              31.42  1519.413793\n",
              "2000-03-31  19.841379    2.866092  ...              31.23  1448.129032\n",
              "2000-04-30  19.304146    2.794390  ...              31.21  1498.666667\n",
              "2000-05-31  19.436709    2.890127  ...              31.65  1446.709677\n",
              "\n",
              "[5 rows x 6 columns]"
            ]
          },
          "metadata": {
            "tags": []
          },
          "execution_count": 32
        }
      ]
    },
    {
      "cell_type": "markdown",
      "metadata": {
        "id": "Oy0oXKKjxBsb",
        "colab_type": "text"
      },
      "source": [
        "## **Modelo NN univariado**"
      ]
    },
    {
      "cell_type": "code",
      "metadata": {
        "id": "UP5pEHkPxPZv",
        "colab_type": "code",
        "colab": {}
      },
      "source": [
        "uni=data[['KBD_MONTH']]"
      ],
      "execution_count": 0,
      "outputs": []
    },
    {
      "cell_type": "code",
      "metadata": {
        "id": "gZ9_zZs6y8XQ",
        "colab_type": "code",
        "outputId": "7eb712fa-9b10-4661-89ce-07bab4676387",
        "colab": {
          "base_uri": "https://localhost:8080/",
          "height": 246
        }
      },
      "source": [
        "uni = uni.sort_index()\n",
        "plt.figure(figsize=(5, 3))\n",
        "uni['KBD_MONTH'].plot()"
      ],
      "execution_count": 34,
      "outputs": [
        {
          "output_type": "execute_result",
          "data": {
            "text/plain": [
              "<matplotlib.axes._subplots.AxesSubplot at 0x7fcb649921d0>"
            ]
          },
          "metadata": {
            "tags": []
          },
          "execution_count": 34
        },
        {
          "output_type": "display_data",
          "data": {
            "image/png": "[encoded data removed]",
            "text/plain": [
              "<Figure size 360x216 with 1 Axes>"
            ]
          },
          "metadata": {
            "tags": []
          }
        }
      ]
    },
    {
      "cell_type": "code",
      "metadata": {
        "id": "1XHrOXmH0Lgl",
        "colab_type": "code",
        "outputId": "5b17da51-9a63-4914-c5e1-b51d0bd2f48b",
        "colab": {
          "base_uri": "https://localhost:8080/",
          "height": 229
        }
      },
      "source": [
        "split_date = pd.Timestamp('2018-05-01')\n",
        "df =  uni['KBD_MONTH']\n",
        "train = df.loc[:split_date]\n",
        "test = df.loc[split_date:]\n",
        "plt.figure(figsize=(5, 3))\n",
        "ax = train.plot()\n",
        "test.plot(ax=ax)\n",
        "plt.legend(['train', 'test']);"
      ],
      "execution_count": 35,
      "outputs": [
        {
          "output_type": "display_data",
          "data": {
            "image/png": "[encoded data removed]",
            "text/plain": [
              "<Figure size 360x216 with 1 Axes>"
            ]
          },
          "metadata": {
            "tags": []
          }
        }
      ]
    },
    {
      "cell_type": "code",
      "metadata": {
        "id": "5G1d0OKN0uJk",
        "colab_type": "code",
        "colab": {}
      },
      "source": [
        "scaler = MinMaxScaler(feature_range=(-1, 1))"
      ],
      "execution_count": 0,
      "outputs": []
    },
    {
      "cell_type": "code",
      "metadata": {
        "id": "lSxVvSV05kJH",
        "colab_type": "code",
        "colab": {}
      },
      "source": [
        "train=train.values.reshape(-1,1)\n",
        "train_sc = scaler.fit_transform(train)\n",
        "test=test.values.reshape(-1,1)\n",
        "test_sc = scaler.transform(test)"
      ],
      "execution_count": 0,
      "outputs": []
    },
    {
      "cell_type": "code",
      "metadata": {
        "id": "L19IwT-809Jw",
        "colab_type": "code",
        "colab": {}
      },
      "source": [
        "np.random.shuffle(train_sc)"
      ],
      "execution_count": 0,
      "outputs": []
    },
    {
      "cell_type": "code",
      "metadata": {
        "id": "pG1ShO_S6EHF",
        "colab_type": "code",
        "colab": {}
      },
      "source": [
        "X_train = train_sc[:-1]\n",
        "y_train = train_sc[1:]\n",
        "X_test = test_sc[:-1]\n",
        "y_test = test_sc[1:]"
      ],
      "execution_count": 0,
      "outputs": []
    },
    {
      "cell_type": "code",
      "metadata": {
        "id": "7uVAQ-1H6Jys",
        "colab_type": "code",
        "outputId": "68bbee84-3f94-43d2-fc85-4d0ed862161b",
        "colab": {
          "base_uri": "https://localhost:8080/",
          "height": 1000
        }
      },
      "source": [
        "nn_model = Sequential()\n",
        "nn_model.add(Dense(100, input_dim=1, activation='relu'))\n",
        "nn_model.add(Dense(1))\n",
        "nn_model.compile(loss='mean_squared_error', optimizer='adam')\n",
        "early_stop = EarlyStopping(monitor='loss', patience=2, verbose=1)\n",
        "history = nn_model.fit(X_train, y_train, epochs=100, batch_size=1, verbose=1,callbacks=[early_stop] ,shuffle=False)"
      ],
      "execution_count": 40,
      "outputs": [
        {
          "output_type": "stream",
          "text": [
            "Epoch 1/100\n",
            "219/219 [==============================] - 1s 5ms/step - loss: 0.1367\n",
            "Epoch 2/100\n",
            "219/219 [==============================] - 1s 2ms/step - loss: 0.1320\n",
            "Epoch 3/100\n",
            "219/219 [==============================] - 1s 3ms/step - loss: 0.1312\n",
            "Epoch 4/100\n",
            "219/219 [==============================] - 1s 2ms/step - loss: 0.1308\n",
            "Epoch 5/100\n",
            "219/219 [==============================] - 1s 2ms/step - loss: 0.1306\n",
            "Epoch 6/100\n",
            "219/219 [==============================] - 1s 2ms/step - loss: 0.1305\n",
            "Epoch 7/100\n",
            "219/219 [==============================] - 1s 3ms/step - loss: 0.1304\n",
            "Epoch 8/100\n",
            "219/219 [==============================] - 1s 2ms/step - loss: 0.1304\n",
            "Epoch 9/100\n",
            "219/219 [==============================] - 1s 3ms/step - loss: 0.1303\n",
            "Epoch 10/100\n",
            "219/219 [==============================] - 1s 2ms/step - loss: 0.1302\n",
            "Epoch 11/100\n",
            "219/219 [==============================] - 1s 2ms/step - loss: 0.1302\n",
            "Epoch 12/100\n",
            "219/219 [==============================] - 1s 2ms/step - loss: 0.1301\n",
            "Epoch 13/100\n",
            "219/219 [==============================] - 1s 2ms/step - loss: 0.1301\n",
            "Epoch 14/100\n",
            "219/219 [==============================] - 1s 3ms/step - loss: 0.1300\n",
            "Epoch 15/100\n",
            "219/219 [==============================] - 1s 3ms/step - loss: 0.1300\n",
            "Epoch 16/100\n",
            "219/219 [==============================] - 1s 3ms/step - loss: 0.1300\n",
            "Epoch 17/100\n",
            "219/219 [==============================] - 1s 3ms/step - loss: 0.1299\n",
            "Epoch 18/100\n",
            "219/219 [==============================] - 1s 3ms/step - loss: 0.1299\n",
            "Epoch 19/100\n",
            "219/219 [==============================] - 1s 3ms/step - loss: 0.1298\n",
            "Epoch 20/100\n",
            "219/219 [==============================] - 1s 3ms/step - loss: 0.1298\n",
            "Epoch 21/100\n",
            "219/219 [==============================] - 1s 3ms/step - loss: 0.1298\n",
            "Epoch 22/100\n",
            "219/219 [==============================] - 1s 3ms/step - loss: 0.1297\n",
            "Epoch 23/100\n",
            "219/219 [==============================] - 1s 2ms/step - loss: 0.1297\n",
            "Epoch 24/100\n",
            "219/219 [==============================] - 1s 3ms/step - loss: 0.1297\n",
            "Epoch 25/100\n",
            "219/219 [==============================] - 1s 3ms/step - loss: 0.1296\n",
            "Epoch 26/100\n",
            "219/219 [==============================] - 1s 3ms/step - loss: 0.1295\n",
            "Epoch 27/100\n",
            "219/219 [==============================] - 1s 3ms/step - loss: 0.1295\n",
            "Epoch 28/100\n",
            "219/219 [==============================] - 1s 3ms/step - loss: 0.1295\n",
            "Epoch 29/100\n",
            "219/219 [==============================] - 1s 3ms/step - loss: 0.1294\n",
            "Epoch 30/100\n",
            "219/219 [==============================] - 1s 3ms/step - loss: 0.1294\n",
            "Epoch 31/100\n",
            "219/219 [==============================] - 1s 3ms/step - loss: 0.1294\n",
            "Epoch 32/100\n",
            "219/219 [==============================] - 1s 3ms/step - loss: 0.1294\n",
            "Epoch 33/100\n",
            "219/219 [==============================] - 1s 2ms/step - loss: 0.1293\n",
            "Epoch 34/100\n",
            "219/219 [==============================] - 1s 2ms/step - loss: 0.1293\n",
            "Epoch 35/100\n",
            "219/219 [==============================] - 1s 2ms/step - loss: 0.1293\n",
            "Epoch 36/100\n",
            "219/219 [==============================] - 1s 3ms/step - loss: 0.1293\n",
            "Epoch 37/100\n",
            "219/219 [==============================] - 1s 3ms/step - loss: 0.1292\n",
            "Epoch 38/100\n",
            "219/219 [==============================] - 1s 3ms/step - loss: 0.1292\n",
            "Epoch 39/100\n",
            "219/219 [==============================] - 1s 2ms/step - loss: 0.1292\n",
            "Epoch 40/100\n",
            "219/219 [==============================] - 1s 3ms/step - loss: 0.1292\n",
            "Epoch 41/100\n",
            "219/219 [==============================] - 1s 2ms/step - loss: 0.1292\n",
            "Epoch 42/100\n",
            "219/219 [==============================] - 1s 2ms/step - loss: 0.1291\n",
            "Epoch 43/100\n",
            "219/219 [==============================] - 1s 2ms/step - loss: 0.1291\n",
            "Epoch 44/100\n",
            "219/219 [==============================] - 1s 3ms/step - loss: 0.1291\n",
            "Epoch 45/100\n",
            "219/219 [==============================] - 1s 3ms/step - loss: 0.1291\n",
            "Epoch 46/100\n",
            "219/219 [==============================] - 1s 2ms/step - loss: 0.1291\n",
            "Epoch 47/100\n",
            "219/219 [==============================] - 1s 2ms/step - loss: 0.1291\n",
            "Epoch 48/100\n",
            "219/219 [==============================] - 1s 2ms/step - loss: 0.1290\n",
            "Epoch 49/100\n",
            "219/219 [==============================] - 1s 2ms/step - loss: 0.1290\n",
            "Epoch 50/100\n",
            "219/219 [==============================] - 1s 2ms/step - loss: 0.1290\n",
            "Epoch 51/100\n",
            "219/219 [==============================] - 1s 3ms/step - loss: 0.1290\n",
            "Epoch 52/100\n",
            "219/219 [==============================] - 1s 3ms/step - loss: 0.1290\n",
            "Epoch 53/100\n",
            "219/219 [==============================] - 1s 3ms/step - loss: 0.1289\n",
            "Epoch 54/100\n",
            "219/219 [==============================] - 1s 2ms/step - loss: 0.1289\n",
            "Epoch 55/100\n",
            "219/219 [==============================] - 1s 3ms/step - loss: 0.1289\n",
            "Epoch 00055: early stopping\n"
          ],
          "name": "stdout"
        }
      ]
    },
    {
      "cell_type": "code",
      "metadata": {
        "id": "7ZUX8dB96kFs",
        "colab_type": "code",
        "outputId": "e58b76f7-a832-4e5c-9aca-540f0217e249",
        "colab": {
          "base_uri": "https://localhost:8080/",
          "height": 51
        }
      },
      "source": [
        "y_pred_test_nn = nn_model.predict(X_test)\n",
        "y_train_pred_nn = nn_model.predict(X_train)\n",
        "print(\"The R2 score on the Train set is:\\t{:0.3f}\".format(r2_score(y_train, y_train_pred_nn)))\n",
        "print(\"The R2 score on the Test set is:\\t{:0.3f}\".format(r2_score(y_test, y_pred_test_nn)))"
      ],
      "execution_count": 41,
      "outputs": [
        {
          "output_type": "stream",
          "text": [
            "The R2 score on the Train set is:\t0.002\n",
            "The R2 score on the Test set is:\t-1.014\n"
          ],
          "name": "stdout"
        }
      ]
    },
    {
      "cell_type": "code",
      "metadata": {
        "id": "gHO6oP8j7WFn",
        "colab_type": "code",
        "colab": {}
      },
      "source": [
        "nn_y_pred_test = nn_model.predict(X_test)"
      ],
      "execution_count": 0,
      "outputs": []
    },
    {
      "cell_type": "code",
      "metadata": {
        "id": "VCu9sdx2CZ0m",
        "colab_type": "code",
        "outputId": "d63978a1-a494-4a71-f61f-a3f01e9c6c6a",
        "colab": {
          "base_uri": "https://localhost:8080/",
          "height": 51
        }
      },
      "source": [
        "nn_test_mse = nn_model.evaluate(X_test, y_test, batch_size=1)\n",
        "print('NN: %f'%nn_test_mse)"
      ],
      "execution_count": 43,
      "outputs": [
        {
          "output_type": "stream",
          "text": [
            "12/12 [==============================] - 0s 21ms/step\n",
            "NN: 0.256866\n"
          ],
          "name": "stdout"
        }
      ]
    },
    {
      "cell_type": "code",
      "metadata": {
        "id": "eG-rXKc3GNJy",
        "colab_type": "code",
        "colab": {}
      },
      "source": [
        "test_predict = scaler.inverse_transform(y_pred_test_nn)\n",
        "test = df.loc[split_date:]\n",
        "test=test.values.reshape(-1,1)\n",
        "y_test = test[1:]"
      ],
      "execution_count": 0,
      "outputs": []
    },
    {
      "cell_type": "code",
      "metadata": {
        "id": "2mQjubA3Gpn6",
        "colab_type": "code",
        "colab": {
          "base_uri": "https://localhost:8080/",
          "height": 34
        },
        "outputId": "8ed36ac0-f63e-4c57-987e-db370b20c5ec"
      },
      "source": [
        "print(np.sqrt(mean_squared_error(y_test,y_pred_test_nn)))"
      ],
      "execution_count": 45,
      "outputs": [
        {
          "output_type": "stream",
          "text": [
            "1889.7796657053987\n"
          ],
          "name": "stdout"
        }
      ]
    },
    {
      "cell_type": "code",
      "metadata": {
        "id": "8EFLuAsFEeKq",
        "colab_type": "code",
        "outputId": "8218be48-5d6f-4f6c-8797-a4bb36801c89",
        "colab": {
          "base_uri": "https://localhost:8080/",
          "height": 241
        }
      },
      "source": [
        "plt.figure(figsize=(5, 3))\n",
        "plt.plot(y_test, label='True')\n",
        "plt.plot(test_predict, label='NN')\n",
        "plt.title(\"NN's Prediction\")\n",
        "plt.xlabel('Observation')\n",
        "plt.ylabel('Adj Close Scaled')\n",
        "plt.legend()\n",
        "plt.show();"
      ],
      "execution_count": 46,
      "outputs": [
        {
          "output_type": "display_data",
          "data": {
            "image/png": "[encoded data removed]",
            "text/plain": [
              "<Figure size 360x216 with 1 Axes>"
            ]
          },
          "metadata": {
            "tags": []
          }
        }
      ]
    },
    {
      "cell_type": "markdown",
      "metadata": {
        "id": "wcKaNgwGNhru",
        "colab_type": "text"
      },
      "source": [
        "## **Modelo univariado (con look_back)**"
      ]
    },
    {
      "cell_type": "code",
      "metadata": {
        "id": "NyeAdR68VO6Y",
        "colab_type": "code",
        "colab": {}
      },
      "source": [
        "def create_dataset(dataset, look_back=1):\n",
        "\tdataX, dataY = [], []\n",
        "\tfor i in range(len(dataset)-look_back-1):\n",
        "\t\ta = dataset[i:(i+look_back), 0]\n",
        "\t\tdataX.append(a)\n",
        "\t\tdataY.append(dataset[i + look_back, 0])\n",
        "\treturn numpy.array(dataX), numpy.array(dataY)"
      ],
      "execution_count": 0,
      "outputs": []
    },
    {
      "cell_type": "code",
      "metadata": {
        "id": "ikoSlrAlLdUk",
        "colab_type": "code",
        "colab": {}
      },
      "source": [
        "split_date = pd.Timestamp('2018-05-01')\n",
        "dataset =  uni['KBD_MONTH']\n",
        "train = dataset.loc[:split_date]\n",
        "test = dataset.loc[split_date:]"
      ],
      "execution_count": 0,
      "outputs": []
    },
    {
      "cell_type": "code",
      "metadata": {
        "id": "lGXsJeUPVbE7",
        "colab_type": "code",
        "colab": {
          "base_uri": "https://localhost:8080/",
          "height": 341
        },
        "outputId": "7764f92b-5b1e-423e-986c-8009c1981bda"
      },
      "source": [
        "look_back = 3\n",
        "trainX, trainY = create_dataset(train, look_back)\n",
        "testX, testY = create_dataset(test, look_back)"
      ],
      "execution_count": 51,
      "outputs": [
        {
          "output_type": "error",
          "ename": "ValueError",
          "evalue": "ignored",
          "traceback": [
            "\u001b[0;31m---------------------------------------------------------------------------\u001b[0m",
            "\u001b[0;31mValueError\u001b[0m                                Traceback (most recent call last)",
            "\u001b[0;32m<ipython-input-51-3e41806afc17>\u001b[0m in \u001b[0;36m<module>\u001b[0;34m()\u001b[0m\n\u001b[1;32m      1\u001b[0m \u001b[0mlook_back\u001b[0m \u001b[0;34m=\u001b[0m \u001b[0;36m3\u001b[0m\u001b[0;34m\u001b[0m\u001b[0;34m\u001b[0m\u001b[0m\n\u001b[0;32m----> 2\u001b[0;31m \u001b[0mtrainX\u001b[0m\u001b[0;34m,\u001b[0m \u001b[0mtrainY\u001b[0m \u001b[0;34m=\u001b[0m \u001b[0mcreate_dataset\u001b[0m\u001b[0;34m(\u001b[0m\u001b[0mtrain\u001b[0m\u001b[0;34m,\u001b[0m \u001b[0mlook_back\u001b[0m\u001b[0;34m)\u001b[0m\u001b[0;34m\u001b[0m\u001b[0;34m\u001b[0m\u001b[0m\n\u001b[0m\u001b[1;32m      3\u001b[0m \u001b[0mtestX\u001b[0m\u001b[0;34m,\u001b[0m \u001b[0mtestY\u001b[0m \u001b[0;34m=\u001b[0m \u001b[0mcreate_dataset\u001b[0m\u001b[0;34m(\u001b[0m\u001b[0mtest\u001b[0m\u001b[0;34m,\u001b[0m \u001b[0mlook_back\u001b[0m\u001b[0;34m)\u001b[0m\u001b[0;34m\u001b[0m\u001b[0;34m\u001b[0m\u001b[0m\n",
            "\u001b[0;32m<ipython-input-48-ab0da8cd7576>\u001b[0m in \u001b[0;36mcreate_dataset\u001b[0;34m(dataset, look_back)\u001b[0m\n\u001b[1;32m      2\u001b[0m         \u001b[0mdataX\u001b[0m\u001b[0;34m,\u001b[0m \u001b[0mdataY\u001b[0m \u001b[0;34m=\u001b[0m \u001b[0;34m[\u001b[0m\u001b[0;34m]\u001b[0m\u001b[0;34m,\u001b[0m \u001b[0;34m[\u001b[0m\u001b[0;34m]\u001b[0m\u001b[0;34m\u001b[0m\u001b[0;34m\u001b[0m\u001b[0m\n\u001b[1;32m      3\u001b[0m         \u001b[0;32mfor\u001b[0m \u001b[0mi\u001b[0m \u001b[0;32min\u001b[0m \u001b[0mrange\u001b[0m\u001b[0;34m(\u001b[0m\u001b[0mlen\u001b[0m\u001b[0;34m(\u001b[0m\u001b[0mdataset\u001b[0m\u001b[0;34m)\u001b[0m\u001b[0;34m-\u001b[0m\u001b[0mlook_back\u001b[0m\u001b[0;34m-\u001b[0m\u001b[0;36m1\u001b[0m\u001b[0;34m)\u001b[0m\u001b[0;34m:\u001b[0m\u001b[0;34m\u001b[0m\u001b[0;34m\u001b[0m\u001b[0m\n\u001b[0;32m----> 4\u001b[0;31m                 \u001b[0ma\u001b[0m \u001b[0;34m=\u001b[0m \u001b[0mdataset\u001b[0m\u001b[0;34m[\u001b[0m\u001b[0mi\u001b[0m\u001b[0;34m:\u001b[0m\u001b[0;34m(\u001b[0m\u001b[0mi\u001b[0m\u001b[0;34m+\u001b[0m\u001b[0mlook_back\u001b[0m\u001b[0;34m)\u001b[0m\u001b[0;34m,\u001b[0m \u001b[0;36m0\u001b[0m\u001b[0;34m]\u001b[0m\u001b[0;34m\u001b[0m\u001b[0;34m\u001b[0m\u001b[0m\n\u001b[0m\u001b[1;32m      5\u001b[0m                 \u001b[0mdataX\u001b[0m\u001b[0;34m.\u001b[0m\u001b[0mappend\u001b[0m\u001b[0;34m(\u001b[0m\u001b[0ma\u001b[0m\u001b[0;34m)\u001b[0m\u001b[0;34m\u001b[0m\u001b[0;34m\u001b[0m\u001b[0m\n\u001b[1;32m      6\u001b[0m                 \u001b[0mdataY\u001b[0m\u001b[0;34m.\u001b[0m\u001b[0mappend\u001b[0m\u001b[0;34m(\u001b[0m\u001b[0mdataset\u001b[0m\u001b[0;34m[\u001b[0m\u001b[0mi\u001b[0m \u001b[0;34m+\u001b[0m \u001b[0mlook_back\u001b[0m\u001b[0;34m,\u001b[0m \u001b[0;36m0\u001b[0m\u001b[0;34m]\u001b[0m\u001b[0;34m)\u001b[0m\u001b[0;34m\u001b[0m\u001b[0;34m\u001b[0m\u001b[0m\n",
            "\u001b[0;32m/usr/local/lib/python3.6/dist-packages/pandas/core/series.py\u001b[0m in \u001b[0;36m__getitem__\u001b[0;34m(self, key)\u001b[0m\n\u001b[1;32m    909\u001b[0m             \u001b[0mkey\u001b[0m \u001b[0;34m=\u001b[0m \u001b[0mcheck_bool_indexer\u001b[0m\u001b[0;34m(\u001b[0m\u001b[0mself\u001b[0m\u001b[0;34m.\u001b[0m\u001b[0mindex\u001b[0m\u001b[0;34m,\u001b[0m \u001b[0mkey\u001b[0m\u001b[0;34m)\u001b[0m\u001b[0;34m\u001b[0m\u001b[0;34m\u001b[0m\u001b[0m\n\u001b[1;32m    910\u001b[0m \u001b[0;34m\u001b[0m\u001b[0m\n\u001b[0;32m--> 911\u001b[0;31m         \u001b[0;32mreturn\u001b[0m \u001b[0mself\u001b[0m\u001b[0;34m.\u001b[0m\u001b[0m_get_with\u001b[0m\u001b[0;34m(\u001b[0m\u001b[0mkey\u001b[0m\u001b[0;34m)\u001b[0m\u001b[0;34m\u001b[0m\u001b[0;34m\u001b[0m\u001b[0m\n\u001b[0m\u001b[1;32m    912\u001b[0m \u001b[0;34m\u001b[0m\u001b[0m\n\u001b[1;32m    913\u001b[0m     \u001b[0;32mdef\u001b[0m \u001b[0m_get_with\u001b[0m\u001b[0;34m(\u001b[0m\u001b[0mself\u001b[0m\u001b[0;34m,\u001b[0m \u001b[0mkey\u001b[0m\u001b[0;34m)\u001b[0m\u001b[0;34m:\u001b[0m\u001b[0;34m\u001b[0m\u001b[0;34m\u001b[0m\u001b[0m\n",
            "\u001b[0;32m/usr/local/lib/python3.6/dist-packages/pandas/core/series.py\u001b[0m in \u001b[0;36m_get_with\u001b[0;34m(self, key)\u001b[0m\n\u001b[1;32m    921\u001b[0m         \u001b[0;32melif\u001b[0m \u001b[0misinstance\u001b[0m\u001b[0;34m(\u001b[0m\u001b[0mkey\u001b[0m\u001b[0;34m,\u001b[0m \u001b[0mtuple\u001b[0m\u001b[0;34m)\u001b[0m\u001b[0;34m:\u001b[0m\u001b[0;34m\u001b[0m\u001b[0;34m\u001b[0m\u001b[0m\n\u001b[1;32m    922\u001b[0m             \u001b[0;32mtry\u001b[0m\u001b[0;34m:\u001b[0m\u001b[0;34m\u001b[0m\u001b[0;34m\u001b[0m\u001b[0m\n\u001b[0;32m--> 923\u001b[0;31m                 \u001b[0;32mreturn\u001b[0m \u001b[0mself\u001b[0m\u001b[0;34m.\u001b[0m\u001b[0m_get_values_tuple\u001b[0m\u001b[0;34m(\u001b[0m\u001b[0mkey\u001b[0m\u001b[0;34m)\u001b[0m\u001b[0;34m\u001b[0m\u001b[0;34m\u001b[0m\u001b[0m\n\u001b[0m\u001b[1;32m    924\u001b[0m             \u001b[0;32mexcept\u001b[0m \u001b[0mException\u001b[0m\u001b[0;34m:\u001b[0m\u001b[0;34m\u001b[0m\u001b[0;34m\u001b[0m\u001b[0m\n\u001b[1;32m    925\u001b[0m                 \u001b[0;32mif\u001b[0m \u001b[0mlen\u001b[0m\u001b[0;34m(\u001b[0m\u001b[0mkey\u001b[0m\u001b[0;34m)\u001b[0m \u001b[0;34m==\u001b[0m \u001b[0;36m1\u001b[0m\u001b[0;34m:\u001b[0m\u001b[0;34m\u001b[0m\u001b[0;34m\u001b[0m\u001b[0m\n",
            "\u001b[0;32m/usr/local/lib/python3.6/dist-packages/pandas/core/series.py\u001b[0m in \u001b[0;36m_get_values_tuple\u001b[0;34m(self, key)\u001b[0m\n\u001b[1;32m    966\u001b[0m \u001b[0;34m\u001b[0m\u001b[0m\n\u001b[1;32m    967\u001b[0m         \u001b[0;32mif\u001b[0m \u001b[0;32mnot\u001b[0m \u001b[0misinstance\u001b[0m\u001b[0;34m(\u001b[0m\u001b[0mself\u001b[0m\u001b[0;34m.\u001b[0m\u001b[0mindex\u001b[0m\u001b[0;34m,\u001b[0m \u001b[0mMultiIndex\u001b[0m\u001b[0;34m)\u001b[0m\u001b[0;34m:\u001b[0m\u001b[0;34m\u001b[0m\u001b[0;34m\u001b[0m\u001b[0m\n\u001b[0;32m--> 968\u001b[0;31m             \u001b[0;32mraise\u001b[0m \u001b[0mValueError\u001b[0m\u001b[0;34m(\u001b[0m\u001b[0;34m'Can only tuple-index with a MultiIndex'\u001b[0m\u001b[0;34m)\u001b[0m\u001b[0;34m\u001b[0m\u001b[0;34m\u001b[0m\u001b[0m\n\u001b[0m\u001b[1;32m    969\u001b[0m \u001b[0;34m\u001b[0m\u001b[0m\n\u001b[1;32m    970\u001b[0m         \u001b[0;31m# If key is contained, would have returned by now\u001b[0m\u001b[0;34m\u001b[0m\u001b[0;34m\u001b[0m\u001b[0;34m\u001b[0m\u001b[0m\n",
            "\u001b[0;31mValueError\u001b[0m: Can only tuple-index with a MultiIndex"
          ]
        }
      ]
    },
    {
      "cell_type": "code",
      "metadata": {
        "id": "tfbEcMdiP7Qq",
        "colab_type": "code",
        "colab": {
          "base_uri": "https://localhost:8080/",
          "height": 391
        },
        "outputId": "c462d704-cd1a-4348-fd20-2ff88d76762c"
      },
      "source": [
        "model = Sequential()\n",
        "model.add(Dense(8, input_dim=look_back, activation='relu'))\n",
        "model.add(Dense(1))\n",
        "model.compile(loss='mean_squared_error', optimizer='adam')\n",
        "early_stop = EarlyStopping(monitor='loss', patience=2, verbose=1)\n",
        "model.fit(trainX, trainY, epochs=200, batch_size=2,callbacks=[early_stop], verbose=2)"
      ],
      "execution_count": 106,
      "outputs": [
        {
          "output_type": "stream",
          "text": [
            "Epoch 1/200\n",
            " - 1s - loss: 6232392.7130\n",
            "Epoch 2/200\n",
            " - 0s - loss: 2844426.0382\n",
            "Epoch 3/200\n",
            " - 0s - loss: 1261241.0639\n",
            "Epoch 4/200\n",
            " - 0s - loss: 355424.5103\n",
            "Epoch 5/200\n",
            " - 0s - loss: 73284.2276\n",
            "Epoch 6/200\n",
            " - 0s - loss: 43486.1471\n",
            "Epoch 7/200\n",
            " - 0s - loss: 42190.1707\n",
            "Epoch 8/200\n",
            " - 0s - loss: 42022.6959\n",
            "Epoch 9/200\n",
            " - 0s - loss: 42026.9681\n",
            "Epoch 10/200\n",
            " - 0s - loss: 42083.3507\n",
            "Epoch 00010: early stopping\n"
          ],
          "name": "stdout"
        },
        {
          "output_type": "execute_result",
          "data": {
            "text/plain": [
              "<keras.callbacks.History at 0x7f53e8d57c18>"
            ]
          },
          "metadata": {
            "tags": []
          },
          "execution_count": 106
        }
      ]
    },
    {
      "cell_type": "code",
      "metadata": {
        "id": "4ZOVhMK8VyQg",
        "colab_type": "code",
        "colab": {
          "base_uri": "https://localhost:8080/",
          "height": 51
        },
        "outputId": "3891d67a-9465-4855-bfa3-57f0af53de62"
      },
      "source": [
        "trainScore = model.evaluate(trainX, trainY, verbose=0)\n",
        "print('Train Score: %.2f MSE (%.2f RMSE)' % (trainScore, math.sqrt(trainScore)))\n",
        "testScore = model.evaluate(testX, testY, verbose=0)\n",
        "print('Test Score: %.2f MSE (%.2f RMSE)' % (testScore, math.sqrt(testScore)))"
      ],
      "execution_count": 107,
      "outputs": [
        {
          "output_type": "stream",
          "text": [
            "Train Score: 41619.39 MSE (204.01 RMSE)\n",
            "Test Score: 53189.17 MSE (230.63 RMSE)\n"
          ],
          "name": "stdout"
        }
      ]
    },
    {
      "cell_type": "code",
      "metadata": {
        "id": "Trxp3WQtV7tX",
        "colab_type": "code",
        "colab": {}
      },
      "source": [
        "trainPredict = model.predict(trainX)\n",
        "testPredict = model.predict(testX)"
      ],
      "execution_count": 0,
      "outputs": []
    },
    {
      "cell_type": "code",
      "metadata": {
        "id": "_0AS62HqWFRk",
        "colab_type": "code",
        "colab": {
          "base_uri": "https://localhost:8080/",
          "height": 241
        },
        "outputId": "b38078f9-c99e-48f2-aa4a-4e76d4dd4fc1"
      },
      "source": [
        "plt.figure(figsize=(5, 3))\n",
        "plt.plot(testY, label='True')\n",
        "plt.plot(testPredict, label='NN')\n",
        "plt.title(\"NN's Prediction\")\n",
        "plt.xlabel('Observation')\n",
        "plt.ylabel('Adj Close Scaled')\n",
        "plt.legend()\n",
        "plt.show();"
      ],
      "execution_count": 109,
      "outputs": [
        {
          "output_type": "display_data",
          "data": {
            "image/png": "[encoded data removed]",
            "text/plain": [
              "<Figure size 360x216 with 1 Axes>"
            ]
          },
          "metadata": {
            "tags": []
          }
        }
      ]
    },
    {
      "cell_type": "markdown",
      "metadata": {
        "id": "cuHFAlSxnXes",
        "colab_type": "text"
      },
      "source": [
        "## **Modelo NN Multivariado**"
      ]
    },
    {
      "cell_type": "code",
      "metadata": {
        "id": "TAW9zBY9ngGe",
        "colab_type": "code",
        "colab": {}
      },
      "source": [
        "from pandas import DataFrame\n",
        "from pandas import read_csv\n",
        "from pandas import concat\n",
        "from sklearn.preprocessing import MinMaxScaler\n",
        "from sklearn.preprocessing import LabelEncoder\n",
        "from sklearn.metrics import mean_squared_error\n",
        "from keras.models import Sequential\n",
        "from keras.layers import Dense\n",
        "from keras.layers import LSTM\n",
        "from math import sqrt\n",
        "from matplotlib import pyplot\n",
        "from numpy import concatenate\n",
        "from numpy import diff\n",
        "import numpy\n",
        "import pandas\n",
        "from numpy.random import seed\n",
        "seed(1)\n",
        "from tensorflow import set_random_seed\n",
        "set_random_seed(2)\n",
        "# convert series to supervised learning\n",
        "def series_to_supervised(data, n_in, n_out=1, dropnan=True):\n",
        "    \"\"\"\n",
        "    Frame a time series as a supervised learning dataset.\n",
        "    Arguments:\n",
        "        data: Sequence of observations as a list or NumPy array.\n",
        "        n_in: Number of lag observations as input (X).\n",
        "        n_out: Number of observations as output (y).\n",
        "        dropnan: Boolean whether or not to drop rows with NaN values.\n",
        "    Returns:\n",
        "        Pandas DataFrame of series framed for supervised learning.\n",
        "    \"\"\"\n",
        "    n_vars = 1 if type(data) is list else data.shape[1]\n",
        "    df = DataFrame(data)\n",
        "    cols, names = list(), list()\n",
        "    # input sequence (t-n, ... t-1)\n",
        "    for i in range(n_in, 0, -1):\n",
        "        cols.append(df.shift(i))\n",
        "        names += [('var%d(t-%d)' % (j+1, i)) for j in range(n_vars)]\n",
        "    # forecast sequence (t, t+1, ... t+n)\n",
        "    for i in range(0, n_out):\n",
        "        cols.append(df.shift(-i))\n",
        "        if i == 0:\n",
        "            names += [('var%d(t)' % (j+1)) for j in range(n_vars)]\n",
        "        else:\n",
        "            names += [('var%d(t+%d)' % (j+1, i)) for j in range(n_vars)]\n",
        "    # put it all together\n",
        "    agg = concat(cols, axis=1)\n",
        "    agg.columns = names\n",
        "    # drop rows with NaN values\n",
        "    if dropnan:\n",
        "        agg.dropna(inplace=True)\n",
        "    return agg"
      ],
      "execution_count": 0,
      "outputs": []
    },
    {
      "cell_type": "code",
      "metadata": {
        "id": "QzmA9Iv2fnlw",
        "colab_type": "code",
        "colab": {}
      },
      "source": [
        "df = data[['KBD_MONTH','API_PROMEDIO_PADD','PERCENT_UTILIZACION_PADD']]\n",
        "values = df.values"
      ],
      "execution_count": 0,
      "outputs": []
    },
    {
      "cell_type": "code",
      "metadata": {
        "id": "-soMD5BGf2iy",
        "colab_type": "code",
        "colab": {}
      },
      "source": [
        "# normalize features\n",
        "values = df.values\n",
        "scaler = MinMaxScaler(feature_range=(0, 1))\n",
        "scaled = scaler.fit_transform(values)\n",
        "# frame as supervised learning\n",
        "reframed = series_to_supervised(scaled, 1, 1)\n",
        "reframed.drop(reframed.columns[[4,5]], axis=1, inplace=True)\n",
        "values = reframed.values\n",
        "values = reframed.values"
      ],
      "execution_count": 0,
      "outputs": []
    },
    {
      "cell_type": "code",
      "metadata": {
        "id": "bzA9xUFBj9Ya",
        "colab_type": "code",
        "colab": {}
      },
      "source": [
        "n_train = -12 # last 12 months to test\n",
        "\n",
        "train, test = values[0:n_train], values[n_train:]\n",
        "# split into input (all columns exceptc last one) and outputs (last column)\n",
        "train_X, train_y = train[:, :-1], train[:, -1]\n",
        "test_X, test_y = test[:, :-1], test[:, -1]"
      ],
      "execution_count": 0,
      "outputs": []
    },
    {
      "cell_type": "code",
      "metadata": {
        "colab_type": "code",
        "outputId": "4055f55a-c5de-4ef1-fa76-c5a0b95d8094",
        "id": "_My3-sc9lZTD",
        "colab": {
          "base_uri": "https://localhost:8080/",
          "height": 34
        }
      },
      "source": [
        "test_X.shape"
      ],
      "execution_count": 0,
      "outputs": [
        {
          "output_type": "execute_result",
          "data": {
            "text/plain": [
              "(12, 3)"
            ]
          },
          "metadata": {
            "tags": []
          },
          "execution_count": 23
        }
      ]
    },
    {
      "cell_type": "code",
      "metadata": {
        "id": "7JS_bDdvkB1Q",
        "colab_type": "code",
        "colab": {}
      },
      "source": [
        "# reshape input to be 3D [samples, timesteps, features]; each line turns into an 'sub-array'\n",
        "# train_X = train_X.reshape((train_X.shape[0], 1, train_X.shape[1]))\n",
        "# test_X = test_X.reshape((test_X.shape[0], 1, test_X.shape[1]))"
      ],
      "execution_count": 0,
      "outputs": []
    },
    {
      "cell_type": "code",
      "metadata": {
        "id": "qzD0l-isj4l1",
        "colab_type": "code",
        "colab": {
          "base_uri": "https://localhost:8080/",
          "height": 1000
        },
        "outputId": "87553f96-b7e0-4fb0-c06e-5f04c21beded"
      },
      "source": [
        "neurons = 200\n",
        "batch_size = 1\n",
        "epochs = 70\n",
        "def create_model():\n",
        "    model = Sequential()\n",
        "    model.add(Dense(neurons, input_dim=3, activation='relu'))\n",
        "    model.add(Dense(1))\n",
        "    model.compile(loss='mean_squared_error', optimizer='adam')\n",
        "    #history = model.fit(train_X, train_y, epochs=epochs, batch_size=batch_size, validation_data=(test_X, test_y), verbose=0, shuffle=False)\n",
        "    history = model.fit(train_X, train_y, epochs=epochs, batch_size=batch_size, validation_data=(test_X, test_y),\n",
        "                        callbacks=[EarlyStopping(monitor='val_loss', patience=10)], verbose=1, shuffle=False)\n",
        "    return model, history\n",
        "model, history  = create_model()\n",
        "model.summary()\n",
        "\n",
        "# plot history\n",
        "\n",
        "fig = plt.figure(figsize=(15, 6))\n",
        "pyplot.clf()\n",
        "pyplot.plot(history.history['loss'], label='train')\n",
        "pyplot.plot(history.history['val_loss'], label='test')\n",
        "pyplot.legend()\n",
        "pyplot.show()\n",
        "\n",
        "yhat = model.predict(test_X)\n",
        "test_X = test_X.reshape((test_X.shape[0], test_X.shape[2]))"
      ],
      "execution_count": 26,
      "outputs": [
        {
          "output_type": "stream",
          "text": [
            "Train on 220 samples, validate on 12 samples\n",
            "Epoch 1/70\n",
            "220/220 [==============================] - 1s 6ms/step - loss: 0.0184 - val_loss: 0.0275\n",
            "Epoch 2/70\n",
            "220/220 [==============================] - 1s 3ms/step - loss: 0.0207 - val_loss: 0.0269\n",
            "Epoch 3/70\n",
            "220/220 [==============================] - 1s 3ms/step - loss: 0.0199 - val_loss: 0.0256\n",
            "Epoch 4/70\n",
            "220/220 [==============================] - 1s 3ms/step - loss: 0.0192 - val_loss: 0.0241\n",
            "Epoch 5/70\n",
            "220/220 [==============================] - 1s 3ms/step - loss: 0.0186 - val_loss: 0.0236\n",
            "Epoch 6/70\n",
            "220/220 [==============================] - 1s 2ms/step - loss: 0.0183 - val_loss: 0.0224\n",
            "Epoch 7/70\n",
            "220/220 [==============================] - 1s 3ms/step - loss: 0.0178 - val_loss: 0.0217\n",
            "Epoch 8/70\n",
            "220/220 [==============================] - 1s 3ms/step - loss: 0.0176 - val_loss: 0.0215\n",
            "Epoch 9/70\n",
            "220/220 [==============================] - 1s 3ms/step - loss: 0.0173 - val_loss: 0.0212\n",
            "Epoch 10/70\n",
            "220/220 [==============================] - 1s 2ms/step - loss: 0.0172 - val_loss: 0.0200\n",
            "Epoch 11/70\n",
            "220/220 [==============================] - 1s 3ms/step - loss: 0.0168 - val_loss: 0.0213\n",
            "Epoch 12/70\n",
            "220/220 [==============================] - 1s 3ms/step - loss: 0.0169 - val_loss: 0.0203\n",
            "Epoch 13/70\n",
            "220/220 [==============================] - 1s 3ms/step - loss: 0.0167 - val_loss: 0.0208\n",
            "Epoch 14/70\n",
            "220/220 [==============================] - 1s 3ms/step - loss: 0.0166 - val_loss: 0.0202\n",
            "Epoch 15/70\n",
            "220/220 [==============================] - 1s 3ms/step - loss: 0.0165 - val_loss: 0.0198\n",
            "Epoch 16/70\n",
            "220/220 [==============================] - 1s 3ms/step - loss: 0.0164 - val_loss: 0.0198\n",
            "Epoch 17/70\n",
            "220/220 [==============================] - 1s 2ms/step - loss: 0.0163 - val_loss: 0.0194\n",
            "Epoch 18/70\n",
            "220/220 [==============================] - 1s 3ms/step - loss: 0.0163 - val_loss: 0.0192\n",
            "Epoch 19/70\n",
            "220/220 [==============================] - 1s 3ms/step - loss: 0.0163 - val_loss: 0.0189\n",
            "Epoch 20/70\n",
            "220/220 [==============================] - 1s 3ms/step - loss: 0.0162 - val_loss: 0.0186\n",
            "Epoch 21/70\n",
            "220/220 [==============================] - 1s 2ms/step - loss: 0.0162 - val_loss: 0.0188\n",
            "Epoch 22/70\n",
            "220/220 [==============================] - 1s 3ms/step - loss: 0.0162 - val_loss: 0.0191\n",
            "Epoch 23/70\n",
            "220/220 [==============================] - 1s 2ms/step - loss: 0.0163 - val_loss: 0.0190\n",
            "Epoch 24/70\n",
            "220/220 [==============================] - 1s 3ms/step - loss: 0.0163 - val_loss: 0.0190\n",
            "Epoch 25/70\n",
            "220/220 [==============================] - 1s 3ms/step - loss: 0.0163 - val_loss: 0.0193\n",
            "Epoch 26/70\n",
            "220/220 [==============================] - 1s 3ms/step - loss: 0.0163 - val_loss: 0.0190\n",
            "Epoch 27/70\n",
            "220/220 [==============================] - 1s 3ms/step - loss: 0.0163 - val_loss: 0.0190\n",
            "Epoch 28/70\n",
            "220/220 [==============================] - 1s 2ms/step - loss: 0.0163 - val_loss: 0.0190\n",
            "Epoch 29/70\n",
            "220/220 [==============================] - 1s 3ms/step - loss: 0.0163 - val_loss: 0.0191\n",
            "Epoch 30/70\n",
            "220/220 [==============================] - 1s 3ms/step - loss: 0.0163 - val_loss: 0.0191\n",
            "Model: \"sequential_9\"\n",
            "_________________________________________________________________\n",
            "Layer (type)                 Output Shape              Param #   \n",
            "=================================================================\n",
            "dense_14 (Dense)             (None, 200)               800       \n",
            "_________________________________________________________________\n",
            "dense_15 (Dense)             (None, 1)                 201       \n",
            "=================================================================\n",
            "Total params: 1,001\n",
            "Trainable params: 1,001\n",
            "Non-trainable params: 0\n",
            "_________________________________________________________________\n"
          ],
          "name": "stdout"
        },
        {
          "output_type": "display_data",
          "data": {
            "image/png": "[encoded data removed]",
            "text/plain": [
              "<Figure size 1080x432 with 1 Axes>"
            ]
          },
          "metadata": {
            "tags": []
          }
        },
        {
          "output_type": "error",
          "ename": "IndexError",
          "evalue": "ignored",
          "traceback": [
            "\u001b[0;31m---------------------------------------------------------------------------\u001b[0m",
            "\u001b[0;31mIndexError\u001b[0m                                Traceback (most recent call last)",
            "\u001b[0;32m<ipython-input-26-8781a69efe98>\u001b[0m in \u001b[0;36m<module>\u001b[0;34m()\u001b[0m\n\u001b[1;32m     24\u001b[0m \u001b[0;34m\u001b[0m\u001b[0m\n\u001b[1;32m     25\u001b[0m \u001b[0myhat\u001b[0m \u001b[0;34m=\u001b[0m \u001b[0mmodel\u001b[0m\u001b[0;34m.\u001b[0m\u001b[0mpredict\u001b[0m\u001b[0;34m(\u001b[0m\u001b[0mtest_X\u001b[0m\u001b[0;34m)\u001b[0m\u001b[0;34m\u001b[0m\u001b[0;34m\u001b[0m\u001b[0m\n\u001b[0;32m---> 26\u001b[0;31m \u001b[0mtest_X\u001b[0m \u001b[0;34m=\u001b[0m \u001b[0mtest_X\u001b[0m\u001b[0;34m.\u001b[0m\u001b[0mreshape\u001b[0m\u001b[0;34m(\u001b[0m\u001b[0;34m(\u001b[0m\u001b[0mtest_X\u001b[0m\u001b[0;34m.\u001b[0m\u001b[0mshape\u001b[0m\u001b[0;34m[\u001b[0m\u001b[0;36m0\u001b[0m\u001b[0;34m]\u001b[0m\u001b[0;34m,\u001b[0m \u001b[0mtest_X\u001b[0m\u001b[0;34m.\u001b[0m\u001b[0mshape\u001b[0m\u001b[0;34m[\u001b[0m\u001b[0;36m2\u001b[0m\u001b[0;34m]\u001b[0m\u001b[0;34m)\u001b[0m\u001b[0;34m)\u001b[0m\u001b[0;34m\u001b[0m\u001b[0;34m\u001b[0m\u001b[0m\n\u001b[0m",
            "\u001b[0;31mIndexError\u001b[0m: tuple index out of range"
          ]
        }
      ]
    },
    {
      "cell_type": "code",
      "metadata": {
        "id": "F4JxtlvZgUWi",
        "colab_type": "code",
        "colab": {
          "base_uri": "https://localhost:8080/",
          "height": 485
        },
        "outputId": "43e0bfe9-73cf-432a-a530-3cd528f5d662"
      },
      "source": [
        "# invert scaling for forecast\n",
        "inv_yhat = concatenate((yhat, test_X[:, 1:]), axis=1)\n",
        "inv_yhat = scaler.inverse_transform(inv_yhat)\n",
        "inv_yhat = inv_yhat[:,0]\n",
        "# invert scaling for actual - observed data\n",
        "test_y = test_y.reshape((len(test_y), 1))\n",
        "inv_y = concatenate((test_y, test_X[:, 1:]), axis=1)\n",
        "inv_y = scaler.inverse_transform(inv_y)\n",
        "inv_y = inv_y[:,0]\n",
        "fig = plt.figure(figsize=(15, 6))\n",
        "pyplot.clf()\n",
        "pyplot.plot(inv_yhat, label=\"model\")\n",
        "pyplot.plot(inv_y, label=\"observed\")\n",
        "plt.ylabel('KBD Month', size=15)\n",
        "plt.xlabel('Time Forward (Monthly)', size=15)\n",
        "plt.legend(fontsize=15)\n",
        "24\n",
        "pyplot.show()\n",
        "print('Train Mean Absolute Error: ', mean_absolute_error(inv_yhat, inv_y))\n",
        "print('Train Root Mean Square Error: ', np.sqrt(mean_squared_error(inv_yhat, inv_y)))\n",
        "print('Test Mean Absolute Error: ', mean_absolute_error(inv_yhat, inv_y))\n",
        "print('Test Root Mean Squared Error: ', np.sqrt(mean_squared_error(inv_yhat, inv_y)))"
      ],
      "execution_count": 52,
      "outputs": [
        {
          "output_type": "display_data",
          "data": {
            "image/png": "[encoded data removed]",
            "text/plain": [
              "<Figure size 1080x432 with 1 Axes>"
            ]
          },
          "metadata": {
            "tags": []
          }
        },
        {
          "output_type": "stream",
          "text": [
            "Train Mean Absolute Error:  72.42608641891373\n",
            "Train Root Mean Square Error:  96.24714785537883\n",
            "Test Mean Absolute Error:  72.42608641891373\n",
            "Test Root Mean Squared Error:  96.24714785537883\n"
          ],
          "name": "stdout"
        }
      ]
    }
  ]
}