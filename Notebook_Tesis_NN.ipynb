{
  "nbformat": 4,
  "nbformat_minor": 0,
  "metadata": {
    "colab": {
      "name": "Notebook_Tesis-NN.ipynb",
      "provenance": [],
      "collapsed_sections": [],
      "toc_visible": true,
      "include_colab_link": true
    },
    "kernelspec": {
      "name": "python3",
      "display_name": "Python 3"
    },
    "accelerator": "GPU"
  },
  "cells": [
    {
      "cell_type": "markdown",
      "metadata": {
        "id": "view-in-github",
        "colab_type": "text"
      },
      "source": [
        "<a href=\"https://colab.research.google.com/github/carlosqu/TesisUniandes/blob/master/Notebook_Tesis_NN.ipynb\" target=\"_parent\"><img src=\"https://colab.research.google.com/assets/colab-badge.svg\" alt=\"Open In Colab\"/></a>"
      ]
    },
    {
      "cell_type": "code",
      "metadata": {
        "id": "C2h8la-cUSO-",
        "colab_type": "code",
        "colab": {}
      },
      "source": [
        "import pandas as pd\n",
        "import numpy as np\n",
        "import matplotlib as plt\n",
        "from matplotlib import figure\n",
        "from matplotlib import *\n",
        "import sys\n",
        "from pylab import *\n",
        "from numpy import array\n",
        "from keras.models import Sequential\n",
        "from keras.layers import Dense\n",
        "from sklearn.metrics import mean_squared_error\n",
        "from keras.layers import Flatten\n",
        "from keras.layers.convolutional import Conv1D\n",
        "from keras.layers.convolutional import MaxPooling1D\n",
        "from sklearn.preprocessing import MinMaxScaler\n",
        "from keras.callbacks import EarlyStopping, ModelCheckpoint\n",
        "from sklearn.metrics import r2_score"
      ],
      "execution_count": 0,
      "outputs": []
    },
    {
      "cell_type": "code",
      "metadata": {
        "id": "JcOpsooicjvp",
        "colab_type": "code",
        "outputId": "6361c5f0-8c0f-4eb5-8233-c4c8e1342c68",
        "colab": {
          "base_uri": "https://localhost:8080/",
          "height": 122
        }
      },
      "source": [
        "from google.colab import drive\n",
        "drive.mount('/content/drive')"
      ],
      "execution_count": 4,
      "outputs": [
        {
          "output_type": "stream",
          "text": [
            "Go to this URL in a browser: https://accounts.google.com/o/oauth2/auth?client_id=947318989803-6bn6qk8qdgf4n4g3pfee6491hc0brc4i.apps.googleusercontent.com&redirect_uri=urn%3Aietf%3Awg%3Aoauth%3A2.0%3Aoob&scope=email%20https%3A%2F%2Fwww.googleapis.com%2Fauth%2Fdocs.test%20https%3A%2F%2Fwww.googleapis.com%2Fauth%2Fdrive%20https%3A%2F%2Fwww.googleapis.com%2Fauth%2Fdrive.photos.readonly%20https%3A%2F%2Fwww.googleapis.com%2Fauth%2Fpeopleapi.readonly&response_type=code\n",
            "\n",
            "Enter your authorization code:\n",
            "··········\n",
            "Mounted at /content/drive\n"
          ],
          "name": "stdout"
        }
      ]
    },
    {
      "cell_type": "code",
      "metadata": {
        "id": "7d-CInnIbcvj",
        "colab_type": "code",
        "outputId": "4893f4ff-54cd-4cd3-bcf4-f0e286b6ae34",
        "colab": {
          "base_uri": "https://localhost:8080/",
          "height": 221
        }
      },
      "source": [
        "data=pd.read_excel('/content/drive/My Drive/tesis/Universidad de los andes/Luis Francisco Ortiz Santamaria - Balance Demanda/Datos/EIA/Importaciones Refinerias/DF_2000.xlsx')\n",
        "data.info()"
      ],
      "execution_count": 42,
      "outputs": [
        {
          "output_type": "stream",
          "text": [
            "<class 'pandas.core.frame.DataFrame'>\n",
            "RangeIndex: 233 entries, 0 to 232\n",
            "Data columns (total 7 columns):\n",
            "DATE                        233 non-null datetime64[ns]\n",
            "AVG_API                     233 non-null float64\n",
            "AVG_AZUFRE                  233 non-null float64\n",
            "PERCENT_UTILIZACION_PADD    233 non-null float64\n",
            "CAPACIDAD                   233 non-null int64\n",
            "API_PROMEDIO_PADD           233 non-null float64\n",
            "KBD_MONTH                   233 non-null float64\n",
            "dtypes: datetime64[ns](1), float64(5), int64(1)\n",
            "memory usage: 12.8 KB\n"
          ],
          "name": "stdout"
        }
      ]
    },
    {
      "cell_type": "code",
      "metadata": {
        "id": "zBegjij3dZzd",
        "colab_type": "code",
        "outputId": "082f3905-37a3-4f9e-b17f-301b8c8ccda8",
        "colab": {
          "base_uri": "https://localhost:8080/",
          "height": 235
        }
      },
      "source": [
        "data['Date_Time'] = pd.to_datetime(data.DATE , format = '%m/%d/%Y')\n",
        "data.index = data.Date_Time\n",
        "data = data.drop(['Date_Time'], axis=1)\n",
        "data = data.drop(['DATE'], axis=1)\n",
        "data.head()"
      ],
      "execution_count": 59,
      "outputs": [
        {
          "output_type": "execute_result",
          "data": {
            "text/html": [
              "<div>\n",
              "<style scoped>\n",
              "    .dataframe tbody tr th:only-of-type {\n",
              "        vertical-align: middle;\n",
              "    }\n",
              "\n",
              "    .dataframe tbody tr th {\n",
              "        vertical-align: top;\n",
              "    }\n",
              "\n",
              "    .dataframe thead th {\n",
              "        text-align: right;\n",
              "    }\n",
              "</style>\n",
              "<table border=\"1\" class=\"dataframe\">\n",
              "  <thead>\n",
              "    <tr style=\"text-align: right;\">\n",
              "      <th></th>\n",
              "      <th>AVG_API</th>\n",
              "      <th>AVG_AZUFRE</th>\n",
              "      <th>PERCENT_UTILIZACION_PADD</th>\n",
              "      <th>CAPACIDAD</th>\n",
              "      <th>API_PROMEDIO_PADD</th>\n",
              "      <th>KBD_MONTH</th>\n",
              "    </tr>\n",
              "    <tr>\n",
              "      <th>Date_Time</th>\n",
              "      <th></th>\n",
              "      <th></th>\n",
              "      <th></th>\n",
              "      <th></th>\n",
              "      <th></th>\n",
              "      <th></th>\n",
              "    </tr>\n",
              "  </thead>\n",
              "  <tbody>\n",
              "    <tr>\n",
              "      <th>2000-01-31</th>\n",
              "      <td>19.541818</td>\n",
              "      <td>2.868312</td>\n",
              "      <td>86.5</td>\n",
              "      <td>7553</td>\n",
              "      <td>31.08</td>\n",
              "      <td>1322.741935</td>\n",
              "    </tr>\n",
              "    <tr>\n",
              "      <th>2000-02-29</th>\n",
              "      <td>19.345584</td>\n",
              "      <td>2.833247</td>\n",
              "      <td>87.9</td>\n",
              "      <td>7546</td>\n",
              "      <td>31.42</td>\n",
              "      <td>1519.413793</td>\n",
              "    </tr>\n",
              "    <tr>\n",
              "      <th>2000-03-31</th>\n",
              "      <td>19.841379</td>\n",
              "      <td>2.866092</td>\n",
              "      <td>91.5</td>\n",
              "      <td>7548</td>\n",
              "      <td>31.23</td>\n",
              "      <td>1448.129032</td>\n",
              "    </tr>\n",
              "    <tr>\n",
              "      <th>2000-04-30</th>\n",
              "      <td>19.304146</td>\n",
              "      <td>2.794390</td>\n",
              "      <td>93.1</td>\n",
              "      <td>7548</td>\n",
              "      <td>31.21</td>\n",
              "      <td>1498.666667</td>\n",
              "    </tr>\n",
              "    <tr>\n",
              "      <th>2000-05-31</th>\n",
              "      <td>19.436709</td>\n",
              "      <td>2.890127</td>\n",
              "      <td>94.9</td>\n",
              "      <td>7548</td>\n",
              "      <td>31.65</td>\n",
              "      <td>1446.709677</td>\n",
              "    </tr>\n",
              "  </tbody>\n",
              "</table>\n",
              "</div>"
            ],
            "text/plain": [
              "              AVG_API  AVG_AZUFRE  ...  API_PROMEDIO_PADD    KBD_MONTH\n",
              "Date_Time                          ...                                \n",
              "2000-01-31  19.541818    2.868312  ...              31.08  1322.741935\n",
              "2000-02-29  19.345584    2.833247  ...              31.42  1519.413793\n",
              "2000-03-31  19.841379    2.866092  ...              31.23  1448.129032\n",
              "2000-04-30  19.304146    2.794390  ...              31.21  1498.666667\n",
              "2000-05-31  19.436709    2.890127  ...              31.65  1446.709677\n",
              "\n",
              "[5 rows x 6 columns]"
            ]
          },
          "metadata": {
            "tags": []
          },
          "execution_count": 59
        }
      ]
    },
    {
      "cell_type": "markdown",
      "metadata": {
        "id": "Oy0oXKKjxBsb",
        "colab_type": "text"
      },
      "source": [
        "## **Modelo NN univariado**"
      ]
    },
    {
      "cell_type": "code",
      "metadata": {
        "id": "UP5pEHkPxPZv",
        "colab_type": "code",
        "colab": {}
      },
      "source": [
        "uni=data[['KBD_MONTH']]"
      ],
      "execution_count": 0,
      "outputs": []
    },
    {
      "cell_type": "code",
      "metadata": {
        "id": "gZ9_zZs6y8XQ",
        "colab_type": "code",
        "outputId": "c947694d-fc52-4b58-8232-9f27f5f277cb",
        "colab": {
          "base_uri": "https://localhost:8080/",
          "height": 246
        }
      },
      "source": [
        "uni = uni.sort_index()\n",
        "plt.figure(figsize=(5, 3))\n",
        "uni['KBD_MONTH'].plot()"
      ],
      "execution_count": 12,
      "outputs": [
        {
          "output_type": "execute_result",
          "data": {
            "text/plain": [
              "<matplotlib.axes._subplots.AxesSubplot at 0x7f5410898828>"
            ]
          },
          "metadata": {
            "tags": []
          },
          "execution_count": 12
        },
        {
          "output_type": "display_data",
          "data": {
            "image/png": "[encoded data removed]",
            "text/plain": [
              "<Figure size 360x216 with 1 Axes>"
            ]
          },
          "metadata": {
            "tags": []
          }
        }
      ]
    },
    {
      "cell_type": "code",
      "metadata": {
        "id": "1XHrOXmH0Lgl",
        "colab_type": "code",
        "outputId": "9cb27d8b-0056-4c27-e815-44d4a498388c",
        "colab": {
          "base_uri": "https://localhost:8080/",
          "height": 229
        }
      },
      "source": [
        "split_date = pd.Timestamp('2018-05-01')\n",
        "df =  uni['KBD_MONTH']\n",
        "train = df.loc[:split_date]\n",
        "test = df.loc[split_date:]\n",
        "plt.figure(figsize=(5, 3))\n",
        "ax = train.plot()\n",
        "test.plot(ax=ax)\n",
        "plt.legend(['train', 'test']);"
      ],
      "execution_count": 13,
      "outputs": [
        {
          "output_type": "display_data",
          "data": {
            "image/png": "[encoded data removed]",
            "text/plain": [
              "<Figure size 360x216 with 1 Axes>"
            ]
          },
          "metadata": {
            "tags": []
          }
        }
      ]
    },
    {
      "cell_type": "code",
      "metadata": {
        "id": "5G1d0OKN0uJk",
        "colab_type": "code",
        "colab": {}
      },
      "source": [
        "scaler = MinMaxScaler(feature_range=(-1, 1))"
      ],
      "execution_count": 0,
      "outputs": []
    },
    {
      "cell_type": "code",
      "metadata": {
        "id": "lSxVvSV05kJH",
        "colab_type": "code",
        "colab": {}
      },
      "source": [
        "train=train.values.reshape(-1,1)\n",
        "train_sc = scaler.fit_transform(train)\n",
        "test=test.values.reshape(-1,1)\n",
        "test_sc = scaler.transform(test)"
      ],
      "execution_count": 0,
      "outputs": []
    },
    {
      "cell_type": "code",
      "metadata": {
        "id": "L19IwT-809Jw",
        "colab_type": "code",
        "colab": {}
      },
      "source": [
        "np.random.shuffle(train_sc)"
      ],
      "execution_count": 0,
      "outputs": []
    },
    {
      "cell_type": "code",
      "metadata": {
        "id": "pG1ShO_S6EHF",
        "colab_type": "code",
        "colab": {}
      },
      "source": [
        "X_train = train_sc[:-1]\n",
        "y_train = train_sc[1:]\n",
        "X_test = test_sc[:-1]\n",
        "y_test = test_sc[1:]"
      ],
      "execution_count": 0,
      "outputs": []
    },
    {
      "cell_type": "code",
      "metadata": {
        "id": "7uVAQ-1H6Jys",
        "colab_type": "code",
        "outputId": "0e8ee7e3-4c4e-47d8-a4ae-67a2dd24d4e4",
        "colab": {
          "base_uri": "https://localhost:8080/",
          "height": 1000
        }
      },
      "source": [
        "nn_model = Sequential()\n",
        "nn_model.add(Dense(100, input_dim=1, activation='relu'))\n",
        "nn_model.add(Dense(1))\n",
        "nn_model.compile(loss='mean_squared_error', optimizer='adam')\n",
        "early_stop = EarlyStopping(monitor='loss', patience=2, verbose=1)\n",
        "history = nn_model.fit(X_train, y_train, epochs=100, batch_size=1, verbose=1,callbacks=[early_stop] ,shuffle=False)"
      ],
      "execution_count": 31,
      "outputs": [
        {
          "output_type": "stream",
          "text": [
            "Epoch 1/100\n",
            "219/219 [==============================] - 1s 3ms/step - loss: 0.1371\n",
            "Epoch 2/100\n",
            "219/219 [==============================] - 1s 2ms/step - loss: 0.1320\n",
            "Epoch 3/100\n",
            "219/219 [==============================] - 1s 2ms/step - loss: 0.1314\n",
            "Epoch 4/100\n",
            "219/219 [==============================] - 1s 2ms/step - loss: 0.1310\n",
            "Epoch 5/100\n",
            "219/219 [==============================] - 1s 2ms/step - loss: 0.1308\n",
            "Epoch 6/100\n",
            "219/219 [==============================] - 1s 2ms/step - loss: 0.1306\n",
            "Epoch 7/100\n",
            "219/219 [==============================] - 1s 2ms/step - loss: 0.1304\n",
            "Epoch 8/100\n",
            "219/219 [==============================] - 1s 2ms/step - loss: 0.1304\n",
            "Epoch 9/100\n",
            "219/219 [==============================] - 1s 2ms/step - loss: 0.1303\n",
            "Epoch 10/100\n",
            "219/219 [==============================] - 1s 2ms/step - loss: 0.1302\n",
            "Epoch 11/100\n",
            "219/219 [==============================] - 1s 2ms/step - loss: 0.1301\n",
            "Epoch 12/100\n",
            "219/219 [==============================] - 1s 2ms/step - loss: 0.1300\n",
            "Epoch 13/100\n",
            "219/219 [==============================] - 0s 2ms/step - loss: 0.1299\n",
            "Epoch 14/100\n",
            "219/219 [==============================] - 1s 2ms/step - loss: 0.1298\n",
            "Epoch 15/100\n",
            "219/219 [==============================] - 1s 2ms/step - loss: 0.1297\n",
            "Epoch 16/100\n",
            "219/219 [==============================] - 0s 2ms/step - loss: 0.1297\n",
            "Epoch 17/100\n",
            "219/219 [==============================] - 1s 2ms/step - loss: 0.1296\n",
            "Epoch 18/100\n",
            "219/219 [==============================] - 1s 2ms/step - loss: 0.1296\n",
            "Epoch 19/100\n",
            "219/219 [==============================] - 0s 2ms/step - loss: 0.1295\n",
            "Epoch 20/100\n",
            "219/219 [==============================] - 0s 2ms/step - loss: 0.1294\n",
            "Epoch 21/100\n",
            "219/219 [==============================] - 1s 2ms/step - loss: 0.1294\n",
            "Epoch 22/100\n",
            "219/219 [==============================] - 1s 2ms/step - loss: 0.1293\n",
            "Epoch 23/100\n",
            "219/219 [==============================] - 1s 2ms/step - loss: 0.1292\n",
            "Epoch 24/100\n",
            "219/219 [==============================] - 0s 2ms/step - loss: 0.1292\n",
            "Epoch 25/100\n",
            "219/219 [==============================] - 1s 2ms/step - loss: 0.1291\n",
            "Epoch 26/100\n",
            "219/219 [==============================] - 1s 2ms/step - loss: 0.1291\n",
            "Epoch 27/100\n",
            "219/219 [==============================] - 1s 2ms/step - loss: 0.1290\n",
            "Epoch 28/100\n",
            "219/219 [==============================] - 1s 2ms/step - loss: 0.1290\n",
            "Epoch 29/100\n",
            "219/219 [==============================] - 1s 2ms/step - loss: 0.1290\n",
            "Epoch 30/100\n",
            "219/219 [==============================] - 0s 2ms/step - loss: 0.1289\n",
            "Epoch 31/100\n",
            "219/219 [==============================] - 0s 2ms/step - loss: 0.1289\n",
            "Epoch 32/100\n",
            "219/219 [==============================] - 0s 2ms/step - loss: 0.1289\n",
            "Epoch 33/100\n",
            "219/219 [==============================] - 1s 2ms/step - loss: 0.1289\n",
            "Epoch 34/100\n",
            "219/219 [==============================] - 1s 2ms/step - loss: 0.1289\n",
            "Epoch 35/100\n",
            "219/219 [==============================] - 1s 2ms/step - loss: 0.1288\n",
            "Epoch 36/100\n",
            "219/219 [==============================] - 0s 2ms/step - loss: 0.1288\n",
            "Epoch 37/100\n",
            "219/219 [==============================] - 1s 2ms/step - loss: 0.1288\n",
            "Epoch 38/100\n",
            "219/219 [==============================] - 1s 2ms/step - loss: 0.1288\n",
            "Epoch 39/100\n",
            "219/219 [==============================] - 0s 2ms/step - loss: 0.1288\n",
            "Epoch 40/100\n",
            "219/219 [==============================] - 0s 2ms/step - loss: 0.1287\n",
            "Epoch 41/100\n",
            "219/219 [==============================] - 1s 2ms/step - loss: 0.1287\n",
            "Epoch 42/100\n",
            "219/219 [==============================] - 1s 2ms/step - loss: 0.1287\n",
            "Epoch 43/100\n",
            "219/219 [==============================] - 1s 2ms/step - loss: 0.1287\n",
            "Epoch 44/100\n",
            "219/219 [==============================] - 0s 2ms/step - loss: 0.1287\n",
            "Epoch 45/100\n",
            "219/219 [==============================] - 0s 2ms/step - loss: 0.1287\n",
            "Epoch 46/100\n",
            "219/219 [==============================] - 1s 2ms/step - loss: 0.1286\n",
            "Epoch 47/100\n",
            "219/219 [==============================] - 1s 2ms/step - loss: 0.1287\n",
            "Epoch 48/100\n",
            "219/219 [==============================] - 0s 2ms/step - loss: 0.1286\n",
            "Epoch 49/100\n",
            "219/219 [==============================] - 1s 2ms/step - loss: 0.1286\n",
            "Epoch 50/100\n",
            "219/219 [==============================] - 1s 2ms/step - loss: 0.1286\n",
            "Epoch 51/100\n",
            "219/219 [==============================] - 1s 2ms/step - loss: 0.1286\n",
            "Epoch 52/100\n",
            "219/219 [==============================] - 1s 2ms/step - loss: 0.1285\n",
            "Epoch 53/100\n",
            "219/219 [==============================] - 1s 2ms/step - loss: 0.1286\n",
            "Epoch 54/100\n",
            "219/219 [==============================] - 1s 2ms/step - loss: 0.1285\n",
            "Epoch 55/100\n",
            "219/219 [==============================] - 1s 2ms/step - loss: 0.1285\n",
            "Epoch 56/100\n",
            "219/219 [==============================] - 1s 2ms/step - loss: 0.1285\n",
            "Epoch 57/100\n",
            "219/219 [==============================] - 1s 2ms/step - loss: 0.1285\n",
            "Epoch 58/100\n",
            "219/219 [==============================] - 1s 2ms/step - loss: 0.1285\n",
            "Epoch 59/100\n",
            "219/219 [==============================] - 1s 2ms/step - loss: 0.1284\n",
            "Epoch 60/100\n",
            "219/219 [==============================] - 1s 2ms/step - loss: 0.1284\n",
            "Epoch 61/100\n",
            "219/219 [==============================] - 1s 2ms/step - loss: 0.1284\n",
            "Epoch 62/100\n",
            "219/219 [==============================] - 1s 2ms/step - loss: 0.1284\n",
            "Epoch 63/100\n",
            "219/219 [==============================] - 1s 2ms/step - loss: 0.1284\n",
            "Epoch 64/100\n",
            "219/219 [==============================] - 0s 2ms/step - loss: 0.1284\n",
            "Epoch 65/100\n",
            "219/219 [==============================] - 1s 2ms/step - loss: 0.1284\n",
            "Epoch 00065: early stopping\n"
          ],
          "name": "stdout"
        }
      ]
    },
    {
      "cell_type": "code",
      "metadata": {
        "id": "7ZUX8dB96kFs",
        "colab_type": "code",
        "outputId": "251f3029-c44f-4a57-a96c-5a52ce3cb5d7",
        "colab": {
          "base_uri": "https://localhost:8080/",
          "height": 51
        }
      },
      "source": [
        "y_pred_test_nn = nn_model.predict(X_test)\n",
        "y_train_pred_nn = nn_model.predict(X_train)\n",
        "print(\"The R2 score on the Train set is:\\t{:0.3f}\".format(r2_score(y_train, y_train_pred_nn)))\n",
        "print(\"The R2 score on the Test set is:\\t{:0.3f}\".format(r2_score(y_test, y_pred_test_nn)))"
      ],
      "execution_count": 32,
      "outputs": [
        {
          "output_type": "stream",
          "text": [
            "The R2 score on the Train set is:\t0.013\n",
            "The R2 score on the Test set is:\t-56.788\n"
          ],
          "name": "stdout"
        }
      ]
    },
    {
      "cell_type": "code",
      "metadata": {
        "id": "gHO6oP8j7WFn",
        "colab_type": "code",
        "colab": {}
      },
      "source": [
        "nn_y_pred_test = nn_model.predict(X_test)"
      ],
      "execution_count": 0,
      "outputs": []
    },
    {
      "cell_type": "code",
      "metadata": {
        "id": "VCu9sdx2CZ0m",
        "colab_type": "code",
        "outputId": "ca2ec4ff-e3c6-41a7-ae4a-244c040d1d06",
        "colab": {
          "base_uri": "https://localhost:8080/",
          "height": 51
        }
      },
      "source": [
        "nn_test_mse = nn_model.evaluate(X_test, y_test, batch_size=1)\n",
        "print('NN: %f'%nn_test_mse)"
      ],
      "execution_count": 34,
      "outputs": [
        {
          "output_type": "stream",
          "text": [
            "12/12 [==============================] - 0s 4ms/step\n",
            "NN: 3571178.583333\n"
          ],
          "name": "stdout"
        }
      ]
    },
    {
      "cell_type": "code",
      "metadata": {
        "id": "eG-rXKc3GNJy",
        "colab_type": "code",
        "colab": {}
      },
      "source": [
        "test_predict = scaler.inverse_transform(y_pred_test_nn)\n",
        "test = df.loc[split_date:]\n",
        "test=test.values.reshape(-1,1)\n",
        "y_test = test[1:]"
      ],
      "execution_count": 0,
      "outputs": []
    },
    {
      "cell_type": "code",
      "metadata": {
        "id": "2mQjubA3Gpn6",
        "colab_type": "code",
        "colab": {
          "base_uri": "https://localhost:8080/",
          "height": 34
        },
        "outputId": "f81e5ade-a419-43d9-b03d-1582a907d239"
      },
      "source": [
        "print(np.sqrt(mean_squared_error(y_test,y_pred_test_nn)))"
      ],
      "execution_count": 36,
      "outputs": [
        {
          "output_type": "stream",
          "text": [
            "1889.7562136334595\n"
          ],
          "name": "stdout"
        }
      ]
    },
    {
      "cell_type": "code",
      "metadata": {
        "id": "8EFLuAsFEeKq",
        "colab_type": "code",
        "outputId": "c113de72-f9b0-4806-a16b-79909ffe5256",
        "colab": {
          "base_uri": "https://localhost:8080/",
          "height": 241
        }
      },
      "source": [
        "plt.figure(figsize=(5, 3))\n",
        "plt.plot(y_test, label='True')\n",
        "plt.plot(test_predict, label='NN')\n",
        "plt.title(\"NN's Prediction\")\n",
        "plt.xlabel('Observation')\n",
        "plt.ylabel('Adj Close Scaled')\n",
        "plt.legend()\n",
        "plt.show();"
      ],
      "execution_count": 37,
      "outputs": [
        {
          "output_type": "display_data",
          "data": {
            "image/png": "[encoded data removed]",
            "text/plain": [
              "<Figure size 360x216 with 1 Axes>"
            ]
          },
          "metadata": {
            "tags": []
          }
        }
      ]
    },
    {
      "cell_type": "markdown",
      "metadata": {
        "id": "wcKaNgwGNhru",
        "colab_type": "text"
      },
      "source": [
        "## **Modelo univariado (con look_back)**"
      ]
    },
    {
      "cell_type": "code",
      "metadata": {
        "id": "NyeAdR68VO6Y",
        "colab_type": "code",
        "colab": {}
      },
      "source": [
        "def create_dataset(dataset, look_back=1):\n",
        "\tdataX, dataY = [], []\n",
        "\tfor i in range(len(dataset)-look_back-1):\n",
        "\t\ta = dataset[i:(i+look_back), 0]\n",
        "\t\tdataX.append(a)\n",
        "\t\tdataY.append(dataset[i + look_back, 0])\n",
        "\treturn numpy.array(dataX), numpy.array(dataY)"
      ],
      "execution_count": 0,
      "outputs": []
    },
    {
      "cell_type": "code",
      "metadata": {
        "id": "ikoSlrAlLdUk",
        "colab_type": "code",
        "colab": {}
      },
      "source": [
        "split_date = pd.Timestamp('2018-05-01')\n",
        "dataset =  uni['KBD_MONTH']\n",
        "train = dataset.loc[:split_date]\n",
        "test = dataset.loc[split_date:]"
      ],
      "execution_count": 0,
      "outputs": []
    },
    {
      "cell_type": "code",
      "metadata": {
        "id": "lGXsJeUPVbE7",
        "colab_type": "code",
        "colab": {}
      },
      "source": [
        "look_back = 3\n",
        "trainX, trainY = create_dataset(train, look_back)\n",
        "testX, testY = create_dataset(test, look_back)"
      ],
      "execution_count": 0,
      "outputs": []
    },
    {
      "cell_type": "code",
      "metadata": {
        "id": "tfbEcMdiP7Qq",
        "colab_type": "code",
        "colab": {
          "base_uri": "https://localhost:8080/",
          "height": 391
        },
        "outputId": "c462d704-cd1a-4348-fd20-2ff88d76762c"
      },
      "source": [
        "model = Sequential()\n",
        "model.add(Dense(8, input_dim=look_back, activation='relu'))\n",
        "model.add(Dense(1))\n",
        "model.compile(loss='mean_squared_error', optimizer='adam')\n",
        "early_stop = EarlyStopping(monitor='loss', patience=2, verbose=1)\n",
        "model.fit(trainX, trainY, epochs=200, batch_size=2,callbacks=[early_stop], verbose=2)"
      ],
      "execution_count": 106,
      "outputs": [
        {
          "output_type": "stream",
          "text": [
            "Epoch 1/200\n",
            " - 1s - loss: 6232392.7130\n",
            "Epoch 2/200\n",
            " - 0s - loss: 2844426.0382\n",
            "Epoch 3/200\n",
            " - 0s - loss: 1261241.0639\n",
            "Epoch 4/200\n",
            " - 0s - loss: 355424.5103\n",
            "Epoch 5/200\n",
            " - 0s - loss: 73284.2276\n",
            "Epoch 6/200\n",
            " - 0s - loss: 43486.1471\n",
            "Epoch 7/200\n",
            " - 0s - loss: 42190.1707\n",
            "Epoch 8/200\n",
            " - 0s - loss: 42022.6959\n",
            "Epoch 9/200\n",
            " - 0s - loss: 42026.9681\n",
            "Epoch 10/200\n",
            " - 0s - loss: 42083.3507\n",
            "Epoch 00010: early stopping\n"
          ],
          "name": "stdout"
        },
        {
          "output_type": "execute_result",
          "data": {
            "text/plain": [
              "<keras.callbacks.History at 0x7f53e8d57c18>"
            ]
          },
          "metadata": {
            "tags": []
          },
          "execution_count": 106
        }
      ]
    },
    {
      "cell_type": "code",
      "metadata": {
        "id": "4ZOVhMK8VyQg",
        "colab_type": "code",
        "colab": {
          "base_uri": "https://localhost:8080/",
          "height": 51
        },
        "outputId": "3891d67a-9465-4855-bfa3-57f0af53de62"
      },
      "source": [
        "trainScore = model.evaluate(trainX, trainY, verbose=0)\n",
        "print('Train Score: %.2f MSE (%.2f RMSE)' % (trainScore, math.sqrt(trainScore)))\n",
        "testScore = model.evaluate(testX, testY, verbose=0)\n",
        "print('Test Score: %.2f MSE (%.2f RMSE)' % (testScore, math.sqrt(testScore)))"
      ],
      "execution_count": 107,
      "outputs": [
        {
          "output_type": "stream",
          "text": [
            "Train Score: 41619.39 MSE (204.01 RMSE)\n",
            "Test Score: 53189.17 MSE (230.63 RMSE)\n"
          ],
          "name": "stdout"
        }
      ]
    },
    {
      "cell_type": "code",
      "metadata": {
        "id": "Trxp3WQtV7tX",
        "colab_type": "code",
        "colab": {}
      },
      "source": [
        "trainPredict = model.predict(trainX)\n",
        "testPredict = model.predict(testX)"
      ],
      "execution_count": 0,
      "outputs": []
    },
    {
      "cell_type": "code",
      "metadata": {
        "id": "_0AS62HqWFRk",
        "colab_type": "code",
        "colab": {
          "base_uri": "https://localhost:8080/",
          "height": 241
        },
        "outputId": "b38078f9-c99e-48f2-aa4a-4e76d4dd4fc1"
      },
      "source": [
        "plt.figure(figsize=(5, 3))\n",
        "plt.plot(testY, label='True')\n",
        "plt.plot(testPredict, label='NN')\n",
        "plt.title(\"NN's Prediction\")\n",
        "plt.xlabel('Observation')\n",
        "plt.ylabel('Adj Close Scaled')\n",
        "plt.legend()\n",
        "plt.show();"
      ],
      "execution_count": 109,
      "outputs": [
        {
          "output_type": "display_data",
          "data": {
            "image/png": "[encoded data removed]",
            "text/plain": [
              "<Figure size 360x216 with 1 Axes>"
            ]
          },
          "metadata": {
            "tags": []
          }
        }
      ]
    }
  ]
}