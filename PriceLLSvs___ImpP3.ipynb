{
  "nbformat": 4,
  "nbformat_minor": 0,
  "metadata": {
    "kernelspec": {
      "name": "python3",
      "display_name": "Python 3"
    },
    "language_info": {
      "codemirror_mode": {
        "name": "ipython",
        "version": 3
      },
      "file_extension": ".py",
      "mimetype": "text/x-python",
      "name": "python",
      "nbconvert_exporter": "python",
      "pygments_lexer": "ipython3",
      "version": "3.6.2"
    },
    "colab": {
      "name": "PriceLLSvs.__ImpP3.ipynb",
      "version": "0.3.2",
      "provenance": [],
      "collapsed_sections": [],
      "include_colab_link": true
    },
    "accelerator": "GPU"
  },
  "cells": [
    {
      "cell_type": "markdown",
      "metadata": {
        "id": "view-in-github",
        "colab_type": "text"
      },
      "source": [
        "<a href=\"https://colab.research.google.com/github/carlosqu/TesisUniandes/blob/master/PriceLLSvs___ImpP3.ipynb\" target=\"_parent\"><img src=\"https://colab.research.google.com/assets/colab-badge.svg\" alt=\"Open In Colab\"/></a>"
      ]
    },
    {
      "cell_type": "code",
      "metadata": {
        "id": "CQ_OcCA1olWM",
        "colab_type": "code",
        "colab": {}
      },
      "source": [
        "# US_4\tANS (LONG BEACH) | US\n",
        "# IR_2\tBASRAH HEAVY | IRAK\n",
        "# IR\tBASRAH LT (USGC) | IRAK LIVIANO\n",
        "# CO_5\tCASTILLA ARGUS (COV) | COLOMBIA\n",
        "# CO\tCASTILLA ARGUS | COLOMBIA\n",
        "# CO_2\tCASTILLA PLATTS | COLOMBIA\n",
        "# CA_2\tCOLD LAKE  (HARDISTY) | CANADA\n",
        "# AN\tHUNGO (FPSO KISOMBA) | ANGOLA\n",
        "# LLS\tLLS | US LIVIANO LUISIANA\n",
        "# BR\tMARLIM (SAO SEBASTIAO) | BRASIL\n",
        "# US_3\tMARS ARGUS | US PADD 3\n",
        "# MX\tMAYA USGC | MEXICO\n",
        "# VE\tMESA 30 | VENEZUELA\n",
        "# EC\tNAPO (ESMERALDAS) | ECUADOR\n",
        "# EC_2\tORIENTE (ESMERALDAS) | ECUADOR\n",
        "# BR_2\tRONCADOR (ANGRA DOS REIS) | BRASIL\n",
        "# CO_4\tVASCONIA ARGUS (COV) | COLOMBIA\n",
        "# CO_3\tVASCONIA PLATTS (COV) | COLOMBIA\n",
        "# CA\tWCS (CUSHING) | CANADA\n",
        "# US_2\tWTI 1M | PAPEL US\n",
        "# US\tWTS (MIDLAND) | US PERMIAN"
      ],
      "execution_count": 0,
      "outputs": []
    },
    {
      "cell_type": "code",
      "metadata": {
        "id": "i_nDFHkGolWR",
        "colab_type": "code",
        "colab": {}
      },
      "source": [
        "#import libraries\n",
        "import pandas as pd\n",
        "import numpy as np\n",
        "import matplotlib.pyplot as plt\n",
        "from datetime import date, timedelta"
      ],
      "execution_count": 0,
      "outputs": []
    },
    {
      "cell_type": "code",
      "metadata": {
        "id": "v8xiMreYolWV",
        "colab_type": "code",
        "outputId": "04cd382b-9c89-4fc5-d175-68c267aa25d3",
        "colab": {
          "base_uri": "https://localhost:8080/",
          "height": 54
        }
      },
      "source": [
        "#import excels\n",
        "\n",
        "URLData0='https://github.com/carlosqu/TesisUniandes/blob/master/Data/Importaciones%20de%20pesados%20Refiner%C3%ADas%20P3%2014-19%20API%20(10-30).xlsx?raw=true'\n",
        "URLData1='https://github.com/carlosqu/TesisUniandes/blob/master/Data/Precios%20crudos%20pesados%20por%20pa%C3%ADs.xlsx?raw=true'\n",
        "\n",
        "Imp=pd.read_excel(URLData0,sheetname='Hoja1')\n",
        "\n",
        "LLS=pd.read_excel(URLData1,sheetname='Hoja1',skiprows=4,usecols=[0,1])\n",
        "US=pd.read_excel(URLData1,sheetname='Hoja1',skiprows=4,usecols=[2,3])\n",
        "IR=pd.read_excel(URLData1,sheetname='Hoja1',skiprows=4,usecols=[4,5])\n",
        "US_2=pd.read_excel(URLData1,sheetname='Hoja1',skiprows=4,usecols=[6,7])\n",
        "CO=pd.read_excel(URLData1,sheetname='Hoja1',skiprows=4,usecols=[8,9])\n",
        "CO_2=pd.read_excel(URLData1,sheetname='Hoja1',skiprows=4,usecols=[10,11])\n",
        "US_3=pd.read_excel(URLData1,sheetname='Hoja1',skiprows=4,usecols=[12,13])\n",
        "MX=pd.read_excel(URLData1,sheetname='Hoja1',skiprows=4,usecols=[14,15])\n",
        "AN=pd.read_excel(URLData1,sheetname='Hoja1',skiprows=4,usecols=[16,17])\n",
        "BR=pd.read_excel(URLData1,sheetname='Hoja1',skiprows=4,usecols=[18,19])\n",
        "CA=pd.read_excel(URLData1,sheetname='Hoja1',skiprows=4,usecols=[20,21])\n",
        "CA_2=pd.read_excel(URLData1,sheetname='Hoja1',skiprows=4,usecols=[22,23])\n",
        "EC=pd.read_excel(URLData1,sheetname='Hoja1',skiprows=4,usecols=[24,25])\n",
        "EC_2=pd.read_excel(URLData1,sheetname='Hoja1',skiprows=4,usecols=[26,27])\n",
        "BR_2=pd.read_excel(URLData1,sheetname='Hoja1',skiprows=4,usecols=[28,29])\n",
        "US_4=pd.read_excel(URLData1,sheetname='Hoja1',skiprows=4,usecols=[30,31])\n",
        "CO_3=pd.read_excel(URLData1,sheetname='Hoja1',skiprows=4,usecols=[32,33])\n",
        "CO_4=pd.read_excel(URLData1,sheetname='Hoja1',skiprows=4,usecols=[34,35])\n",
        "CO_5=pd.read_excel(URLData1,sheetname='Hoja1',skiprows=4,usecols=[36,37])\n",
        "VE=pd.read_excel(URLData1,sheetname='Hoja1',skiprows=4,usecols=[38,39])\n",
        "IR_2=pd.read_excel(URLData1,sheetname='Hoja1',skiprows=4,usecols=[40,41])"
      ],
      "execution_count": 34,
      "outputs": [
        {
          "output_type": "stream",
          "text": [
            "/usr/local/lib/python3.6/dist-packages/pandas/util/_decorators.py:188: FutureWarning: The `sheetname` keyword is deprecated, use `sheet_name` instead\n",
            "  return func(*args, **kwargs)\n"
          ],
          "name": "stderr"
        }
      ]
    },
    {
      "cell_type": "code",
      "metadata": {
        "id": "VZ-o8vVLolWZ",
        "colab_type": "code",
        "colab": {}
      },
      "source": [
        "#change column names2\n",
        "\n",
        "US.columns=['Date','Pri']\n",
        "IR.columns=['Date','Pri']\n",
        "US_2.columns=['Date','Pri']\n",
        "CO.columns=['Date','Pri']\n",
        "CO_2.columns=['Date','Pri']\n",
        "US_3.columns=['Date','Pri']\n",
        "MX.columns=['Date','Pri']\n",
        "AN.columns=['Date','Pri']\n",
        "BR.columns=['Date','Pri']\n",
        "CA.columns=['Date','Pri']\n",
        "CA_2.columns=['Date','Pri']\n",
        "EC.columns=['Date','Pri']\n",
        "EC_2.columns=['Date','Pri']\n",
        "BR_2.columns=['Date','Pri']\n",
        "US_4.columns=['Date','Pri']\n",
        "CO_3.columns=['Date','Pri']\n",
        "CO_4.columns=['Date','Pri']\n",
        "CO_5.columns=['Date','Pri']\n",
        "VE.columns=['Date','Pri']\n",
        "IR_2.columns=['Date','Pri']"
      ],
      "execution_count": 0,
      "outputs": []
    },
    {
      "cell_type": "code",
      "metadata": {
        "id": "GAv7IsA-olWc",
        "colab_type": "code",
        "colab": {}
      },
      "source": [
        "#deal with NANs\n",
        "\n",
        "LLS.dropna(inplace=True)\n",
        "US.dropna(inplace=True)\n",
        "IR.dropna(inplace=True)\n",
        "US_2.dropna(inplace=True)\n",
        "CO.dropna(inplace=True)\n",
        "CO_2.dropna(inplace=True)\n",
        "US_3.dropna(inplace=True)\n",
        "MX.dropna(inplace=True)\n",
        "AN.dropna(inplace=True)\n",
        "BR.dropna(inplace=True)\n",
        "CA.dropna(inplace=True)\n",
        "CA_2.dropna(inplace=True)\n",
        "EC.dropna(inplace=True)\n",
        "EC_2.dropna(inplace=True)\n",
        "BR_2.dropna(inplace=True)\n",
        "US_4.dropna(inplace=True)\n",
        "CO_3.dropna(inplace=True)\n",
        "CO_4.dropna(inplace=True)\n",
        "CO_5.dropna(inplace=True)\n",
        "VE.dropna(inplace=True)\n",
        "IR_2.dropna(inplace=True)"
      ],
      "execution_count": 0,
      "outputs": []
    },
    {
      "cell_type": "code",
      "metadata": {
        "id": "GCwyS4gBolWg",
        "colab_type": "code",
        "colab": {}
      },
      "source": [
        "#merge LLS vs each heavy crude origin\n",
        "\n",
        "US=pd.merge(US,LLS,on='Date',how='outer')\n",
        "IR=pd.merge(IR,LLS,on='Date',how='outer')\n",
        "US_2=pd.merge(US_2,LLS,on='Date',how='outer')\n",
        "CO=pd.merge(CO,LLS,on='Date',how='outer')\n",
        "CO_2=pd.merge(CO_2,LLS,on='Date',how='outer')\n",
        "US_3=pd.merge(US_3,LLS,on='Date',how='outer')\n",
        "MX=pd.merge(MX,LLS,on='Date',how='outer')\n",
        "AN=pd.merge(AN,LLS,on='Date',how='outer')\n",
        "BR=pd.merge(BR,LLS,on='Date',how='outer')\n",
        "CA=pd.merge(CA,LLS,on='Date',how='outer')\n",
        "CA_2=pd.merge(CA_2,LLS,on='Date',how='outer')\n",
        "EC=pd.merge(EC,LLS,on='Date',how='outer')\n",
        "EC_2=pd.merge(EC_2,LLS,on='Date',how='outer')\n",
        "BR_2=pd.merge(BR_2,LLS,on='Date',how='outer')\n",
        "US_4=pd.merge(US_4,LLS,on='Date',how='outer')\n",
        "CO_3=pd.merge(CO_3,LLS,on='Date',how='outer')\n",
        "CO_4=pd.merge(CO_4,LLS,on='Date',how='outer')\n",
        "CO_5=pd.merge(CO_5,LLS,on='Date',how='outer')\n",
        "VE=pd.merge(VE,LLS,on='Date',how='outer')\n",
        "IR_2=pd.merge(IR_2,LLS,on='Date',how='outer')"
      ],
      "execution_count": 0,
      "outputs": []
    },
    {
      "cell_type": "code",
      "metadata": {
        "id": "rKESa84TolWk",
        "colab_type": "code",
        "colab": {}
      },
      "source": [
        "#create a function to split the date ranges to months\n",
        "\n",
        "def match(x):\n",
        "    x['Date2'] = x['Date'].dt.year\n",
        "    x['Date3'] = x['Date'].dt.month\n",
        "    x['NewDate']=pd.to_datetime(x.Date2*10000+x.Date3*100+1,format='%Y%m%d')"
      ],
      "execution_count": 0,
      "outputs": []
    },
    {
      "cell_type": "code",
      "metadata": {
        "id": "b9j3y-H_olWo",
        "colab_type": "code",
        "colab": {}
      },
      "source": [
        "match(US)\n",
        "match(IR)\n",
        "match(US_2)\n",
        "match(CO)\n",
        "match(CO_2)\n",
        "match(US_3)\n",
        "match(MX)\n",
        "match(AN)\n",
        "match(BR)\n",
        "match(CA)\n",
        "match(CA_2)\n",
        "match(EC)\n",
        "match(EC_2)\n",
        "match(BR_2)\n",
        "match(US_4)\n",
        "match(CO_3)\n",
        "match(CO_4)\n",
        "match(CO_5)\n",
        "match(VE)\n",
        "match(IR_2)"
      ],
      "execution_count": 0,
      "outputs": []
    },
    {
      "cell_type": "code",
      "metadata": {
        "id": "nKUKHFxUolWu",
        "colab_type": "code",
        "colab": {}
      },
      "source": [
        "US=pd.pivot_table(US, index='NewDate', aggfunc=np.mean)\n",
        "IR=pd.pivot_table(IR, index='NewDate', aggfunc=np.mean)\n",
        "US_2=pd.pivot_table(US_2, index='NewDate', aggfunc=np.mean)\n",
        "CO=pd.pivot_table(CO, index='NewDate', aggfunc=np.mean)\n",
        "CO_2=pd.pivot_table(CO_2, index='NewDate', aggfunc=np.mean)\n",
        "US_3=pd.pivot_table(US_3, index='NewDate', aggfunc=np.mean)\n",
        "MX=pd.pivot_table(MX, index='NewDate', aggfunc=np.mean)\n",
        "AN=pd.pivot_table(AN, index='NewDate', aggfunc=np.mean)\n",
        "BR=pd.pivot_table(BR, index='NewDate', aggfunc=np.mean)\n",
        "CA=pd.pivot_table(CA, index='NewDate', aggfunc=np.mean)\n",
        "CA_2=pd.pivot_table(CA_2, index='NewDate', aggfunc=np.mean)\n",
        "EC=pd.pivot_table(EC, index='NewDate', aggfunc=np.mean)\n",
        "EC_2=pd.pivot_table(EC_2, index='NewDate', aggfunc=np.mean)\n",
        "BR_2=pd.pivot_table(BR_2, index='NewDate', aggfunc=np.mean)\n",
        "US_4=pd.pivot_table(US_4, index='NewDate', aggfunc=np.mean)\n",
        "CO_3=pd.pivot_table(CO_3, index='NewDate', aggfunc=np.mean)\n",
        "CO_4=pd.pivot_table(CO_4, index='NewDate', aggfunc=np.mean)\n",
        "CO_5=pd.pivot_table(CO_5, index='NewDate', aggfunc=np.mean)\n",
        "VE=pd.pivot_table(VE, index='NewDate', aggfunc=np.mean)\n",
        "IR_2=pd.pivot_table(IR_2, index='NewDate', aggfunc=np.mean)"
      ],
      "execution_count": 0,
      "outputs": []
    },
    {
      "cell_type": "code",
      "metadata": {
        "id": "fCv8YgRsolW3",
        "colab_type": "code",
        "colab": {}
      },
      "source": [
        "#create a function to split the date ranges to months\n",
        "\n",
        "def match2(y):\n",
        "    y['NewDate']=pd.to_datetime(y.Date2*10000+y.Date3*100+1,format='%Y%m%d')"
      ],
      "execution_count": 0,
      "outputs": []
    },
    {
      "cell_type": "code",
      "metadata": {
        "id": "B17jL6ieolW-",
        "colab_type": "code",
        "colab": {}
      },
      "source": [
        "match2(US)\n",
        "match2(IR)\n",
        "match2(US_2)\n",
        "match2(CO)\n",
        "match2(CO_2)\n",
        "match2(US_3)\n",
        "match2(MX)\n",
        "match2(AN)\n",
        "match2(BR)\n",
        "match2(CA)\n",
        "match2(CA_2)\n",
        "match2(EC)\n",
        "match2(EC_2)\n",
        "match2(BR_2)\n",
        "match2(US_4)\n",
        "match2(CO_3)\n",
        "match2(CO_4)\n",
        "match2(CO_5)\n",
        "match2(VE)\n",
        "match2(IR_2)"
      ],
      "execution_count": 0,
      "outputs": []
    },
    {
      "cell_type": "code",
      "metadata": {
        "id": "LrRsJKtyolXF",
        "colab_type": "code",
        "colab": {}
      },
      "source": [
        "#deal with NANs\n",
        "\n",
        "US.dropna(inplace=True)\n",
        "IR.dropna(inplace=True)\n",
        "US_2.dropna(inplace=True)\n",
        "CO.dropna(inplace=True)\n",
        "CO_2.dropna(inplace=True)\n",
        "US_3.dropna(inplace=True)\n",
        "MX.dropna(inplace=True)\n",
        "AN.dropna(inplace=True)\n",
        "BR.dropna(inplace=True)\n",
        "CA.dropna(inplace=True)\n",
        "CA_2.dropna(inplace=True)\n",
        "EC.dropna(inplace=True)\n",
        "EC_2.dropna(inplace=True)\n",
        "BR_2.dropna(inplace=True)\n",
        "US_4.dropna(inplace=True)\n",
        "CO_3.dropna(inplace=True)\n",
        "CO_4.dropna(inplace=True)\n",
        "CO_5.dropna(inplace=True)\n",
        "VE.dropna(inplace=True)\n",
        "IR_2.dropna(inplace=True)"
      ],
      "execution_count": 0,
      "outputs": []
    },
    {
      "cell_type": "code",
      "metadata": {
        "colab_type": "code",
        "id": "xbjxuY_rujvV",
        "colab": {}
      },
      "source": [
        "#create a function to find the difference btween both amounts\n",
        "\n",
        "def match3(z):\n",
        "  z['DifLLS']=z['LLS']-z['Pri']"
      ],
      "execution_count": 0,
      "outputs": []
    },
    {
      "cell_type": "code",
      "metadata": {
        "id": "mfASWcN3twla",
        "colab_type": "code",
        "colab": {}
      },
      "source": [
        "match3(US)\n",
        "match3(IR)\n",
        "match3(US_2)\n",
        "match3(CO)\n",
        "match3(CO_2)\n",
        "match3(US_3)\n",
        "match3(MX)\n",
        "match3(AN)\n",
        "match3(BR)\n",
        "match3(CA)\n",
        "match3(CA_2)\n",
        "match3(EC)\n",
        "match3(EC_2)\n",
        "match3(BR_2)\n",
        "match3(US_4)\n",
        "match3(CO_3)\n",
        "match3(CO_4)\n",
        "match3(CO_5)\n",
        "match3(VE)\n",
        "match3(IR_2)"
      ],
      "execution_count": 0,
      "outputs": []
    },
    {
      "cell_type": "code",
      "metadata": {
        "id": "1UI8I3SKwf7o",
        "colab_type": "code",
        "colab": {}
      },
      "source": [
        "Imp['NewDate']=pd.to_datetime(Imp.AÑO*10000+Imp.MES*100+1,format='%Y%m%d') #compare to US\n",
        "Imp=Imp.sort_values(by=['NewDate'])\n",
        "\n",
        "Imp['NewDate2']=Imp['NewDate']-timedelta(days=30)\n",
        "Imp['Date2'] = Imp['NewDate2'].dt.year\n",
        "Imp['Date3'] = Imp['NewDate2'].dt.month\n",
        "Imp['NewDate2']=pd.to_datetime(Imp.Date2*10000+Imp.Date3*100+1,format='%Y%m%d') #compare to REST\n",
        "\n",
        "Imp['NewDate3']=Imp['NewDate2']-timedelta(days=30)\n",
        "Imp['Date2'] = Imp['NewDate3'].dt.year\n",
        "Imp['Date3'] = Imp['NewDate3'].dt.month\n",
        "Imp['NewDate3']=pd.to_datetime(Imp.Date2*10000+Imp.Date3*100+1,format='%Y%m%d') #compare to IRAK"
      ],
      "execution_count": 0,
      "outputs": []
    },
    {
      "cell_type": "code",
      "metadata": {
        "id": "OEd61nh68orb",
        "colab_type": "code",
        "colab": {}
      },
      "source": [
        "Imp_US=pd.pivot_table(Imp, values='QUANTITY', index=['CNTRY_NAME','NewDate'], aggfunc=np.sum)\n",
        "Imp_US = pd.DataFrame(Imp_US.to_records())\n",
        "\n",
        "Imp_REST=pd.pivot_table(Imp, values='QUANTITY', index=['CNTRY_NAME','NewDate2'], aggfunc=np.sum)\n",
        "Imp_REST = pd.DataFrame(Imp_REST.to_records())\n",
        "\n",
        "Imp_IRAK=pd.pivot_table(Imp, values='QUANTITY', index=['CNTRY_NAME','NewDate3'], aggfunc=np.sum)\n",
        "Imp_IRAK = pd.DataFrame(Imp_IRAK.to_records())"
      ],
      "execution_count": 0,
      "outputs": []
    },
    {
      "cell_type": "code",
      "metadata": {
        "colab_type": "code",
        "outputId": "cba662f0-8c76-46ff-88c8-af5b41bbc19a",
        "id": "YPUlYk8QKgzg",
        "colab": {
          "base_uri": "https://localhost:8080/",
          "height": 550
        }
      },
      "source": [
        "BR.index.name = None\n",
        "BR=BR.sort_values(by=['NewDate'])\n",
        "Imp_REST=Imp_REST.sort_values(by=['NewDate2'])\n",
        "\n",
        "Imp_BR=Imp_REST[Imp_REST.CNTRY_NAME == 'BRAZIL']\n",
        "# plt.plot(BR['NewDate'], BR['DifLLS'],label='LLS-BR')\n",
        "plt.plot(Imp_BR['NewDate2'], Imp_BR['QUANTITY'],label='Imp_BR')\n",
        "\n",
        "plt.xlabel('Fecha')\n",
        "plt.ylabel('Amount')\n",
        "# plt.ylim(bottom=-20,top=20) \n",
        "# plt.xlim(left='2013-12-01')\n",
        "# plt.axhline(y=8.0,c=[0.1, 0.8,0.7,1])\n",
        "\n",
        "\n",
        "plt.legend()\n",
        "plt.show()\n",
        "\n",
        "plt.plot(BR['NewDate'], BR['DifLLS'],label='LLS-BR')\n",
        "# plt.plot(Imp_BR['NewDate2'], Imp_BR['QUANTITY'],label='Imp_BR')\n",
        "\n",
        "plt.xlabel('Fecha')\n",
        "plt.ylabel('Amount')\n",
        "# plt.ylim(bottom=-20,top=20) \n",
        "# plt.xlim(left='2013-12-01')\n",
        "# plt.axhline(y=8.0,c=[0.1, 0.8,0.7,1])\n",
        "\n",
        "\n",
        "plt.legend()\n",
        "plt.show()"
      ],
      "execution_count": 174,
      "outputs": [
        {
          "output_type": "display_data",
          "data": {
            "image/png": "[encoded data removed]",
            "text/plain": [
              "<Figure size 432x288 with 1 Axes>"
            ]
          },
          "metadata": {
            "tags": []
          }
        },
        {
          "output_type": "display_data",
          "data": {
            "image/png": "[encoded data removed]",
            "text/plain": [
              "<Figure size 432x288 with 1 Axes>"
            ]
          },
          "metadata": {
            "tags": []
          }
        }
      ]
    }
  ]
}